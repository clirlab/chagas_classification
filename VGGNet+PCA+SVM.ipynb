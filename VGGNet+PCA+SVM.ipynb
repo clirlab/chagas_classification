{
  "nbformat": 4,
  "nbformat_minor": 0,
  "metadata": {
    "kernelspec": {
      "language": "python",
      "display_name": "Python 3",
      "name": "python3"
    },
    "language_info": {
      "name": "python",
      "version": "3.7.10",
      "mimetype": "text/x-python",
      "codemirror_mode": {
        "name": "ipython",
        "version": 3
      },
      "pygments_lexer": "ipython3",
      "nbconvert_exporter": "python",
      "file_extension": ".py"
    },
    "colab": {
      "name": "VGGNet+PCA+SVM_(After_Training Coding Part).ipynb",
      "provenance": []
    }
  },
  "cells": [
    {
      "cell_type": "code",
      "metadata": {
        "id": "6IqO0KErYgZz"
      },
      "source": [
        ""
      ],
      "execution_count": null,
      "outputs": []
    },
    {
      "cell_type": "code",
      "metadata": {
        "id": "Rfq-4ICSYXOD",
        "execution": {
          "iopub.status.busy": "2021-09-03T11:35:07.760925Z",
          "iopub.execute_input": "2021-09-03T11:35:07.761307Z",
          "iopub.status.idle": "2021-09-03T11:35:07.765958Z",
          "shell.execute_reply.started": "2021-09-03T11:35:07.761272Z",
          "shell.execute_reply": "2021-09-03T11:35:07.765030Z"
        },
        "trusted": true
      },
      "source": [
        "# import libraries\n",
        "import numpy as np\n",
        "import cv2\n",
        "import matplotlib.pyplot as plt\n",
        "from tqdm import tqdm\n",
        "import os\n",
        "from keras.regularizers import l2\n",
        "from datetime import datetime \n",
        "\n",
        "\n",
        "# extract folder of chages disease images and non chagas disease images\n",
        "## We should have two folders ( Chagas and Non-Chagas )\n",
        "#!unzip \"/content/drive/MyDrive/ChagasTest.zip\"\n",
        "\n",
        "#!unzip \"/content/drive/MyDrive/ChagasValidation.zip\""
      ],
      "execution_count": null,
      "outputs": []
    },
    {
      "cell_type": "code",
      "metadata": {
        "id": "t4otd9I_WsKN",
        "execution": {
          "iopub.status.busy": "2021-09-02T16:22:12.184908Z",
          "iopub.execute_input": "2021-09-02T16:22:12.185279Z",
          "iopub.status.idle": "2021-09-02T16:22:12.189149Z",
          "shell.execute_reply.started": "2021-09-02T16:22:12.185248Z",
          "shell.execute_reply": "2021-09-02T16:22:12.188065Z"
        },
        "trusted": true
      },
      "source": [
        "#!unzip \"/content/drive/MyDrive/Non-ChagasData_Selected.zip\""
      ],
      "execution_count": null,
      "outputs": []
    },
    {
      "cell_type": "code",
      "metadata": {
        "id": "CqHVkM_yNWeu",
        "execution": {
          "iopub.status.busy": "2021-09-02T16:22:12.217424Z",
          "iopub.execute_input": "2021-09-02T16:22:12.217703Z",
          "iopub.status.idle": "2021-09-02T16:22:12.222946Z",
          "shell.execute_reply.started": "2021-09-02T16:22:12.217679Z",
          "shell.execute_reply": "2021-09-02T16:22:12.222148Z"
        },
        "trusted": true
      },
      "source": [
        "#!unzip \"/content/drive/MyDrive/ChagasTraining.zip\"\n"
      ],
      "execution_count": null,
      "outputs": []
    },
    {
      "cell_type": "code",
      "metadata": {
        "id": "BzusLIkPWzLc"
      },
      "source": [
        ""
      ],
      "execution_count": null,
      "outputs": []
    },
    {
      "cell_type": "code",
      "metadata": {
        "id": "upUkOo6AtFGB",
        "execution": {
          "iopub.status.busy": "2021-09-03T11:35:14.556709Z",
          "iopub.execute_input": "2021-09-03T11:35:14.557053Z",
          "iopub.status.idle": "2021-09-03T11:35:14.564502Z",
          "shell.execute_reply.started": "2021-09-03T11:35:14.557022Z",
          "shell.execute_reply": "2021-09-03T11:35:14.563621Z"
        },
        "trusted": true
      },
      "source": [
        "import os \n",
        "import seaborn as sns\n",
        "from keras.applications.vgg16 import VGG16\n",
        "training_dir =  \"../input/training/training\"\n",
        "test_dir =      \"../input/testdata/Test\"\n",
        "validation_dir= \"../input/validation/Validation\"\n",
        "\n",
        "training_dir_images = os.path.join(training_dir , \"images\")\n",
        "test_dir_images = os.path.join(test_dir , \"images\")\n",
        "validation_dir_images = os.path.join(validation_dir , \"images\")\n",
        "\n",
        "\n",
        "Training_Non_ChagasFiles = [ \"i_0450,i_0389,i_0392 ,i_0395 , i_0440 ,i_0429 , i_0406 , i_0398 , i_0369 , i_0374, i_0348, i_0339,  i_0337 , i_0389 ,i_0334, i_0324 ,i_0279, i_0280, i_0281 , i_0263 , i_0264 , i_0254 , i_0253 , i_0245 , i_0240 , i_0238 , i_0235 , i_0226 , i_0201, i_0184, i_0156, i_0150, i_0148 , i_0152 , i_0099 , i_0018 , i_0001\" ]\n",
        "\n",
        "\n",
        "Validation_Non_ChagasFiles = [\"i842 , i806 , i_0583, i_0559 , i_0528 , i_0529 , i_0583 , i_0559 , i_0528 , i_0529 , i_0481, i_0394 , i_0183 , i_0078 , i_0042 , i_0022\" ]\n",
        "\n",
        "\n",
        "Test_Non_ChagasFiles = [\"i_0579 , i_0579d , i_0050dd , i_0046d , i_0046dd , i_0047dd , i_0047d , i_0048d , i_0048dd ,i_0049d , i_0049dd , i_0050d , i_0050dd\" ]\n",
        "\n",
        "Non_chagas_files_names = []\n",
        "\n",
        "Non_chagas_files_names.extend(Training_Non_ChagasFiles)\n",
        "Non_chagas_files_names.extend(Validation_Non_ChagasFiles)\n",
        "Non_chagas_files_names.extend(Test_Non_ChagasFiles)\n",
        "\n",
        "NC = []\n",
        "for string in Non_chagas_files_names:\n",
        "  \n",
        "  NC.extend(string.split(\",\"))\n",
        "\n",
        "Non_Chagas_Files = []\n",
        "for values in NC:\n",
        "  Non_Chagas_Files.append(values.strip())\n",
        "\n",
        "\n"
      ],
      "execution_count": null,
      "outputs": []
    },
    {
      "cell_type": "code",
      "metadata": {
        "id": "jy9B1OqiyGEm",
        "execution": {
          "iopub.status.busy": "2021-09-02T16:22:12.289606Z",
          "iopub.execute_input": "2021-09-02T16:22:12.28987Z",
          "iopub.status.idle": "2021-09-02T16:22:12.29501Z",
          "shell.execute_reply.started": "2021-09-02T16:22:12.289845Z",
          "shell.execute_reply": "2021-09-02T16:22:12.294057Z"
        },
        "trusted": true
      },
      "source": [
        "training_dir_images"
      ],
      "execution_count": null,
      "outputs": []
    },
    {
      "cell_type": "code",
      "metadata": {
        "id": "id_iHL0RyNf9",
        "execution": {
          "iopub.status.busy": "2021-09-03T11:35:20.035357Z",
          "iopub.execute_input": "2021-09-03T11:35:20.035754Z",
          "iopub.status.idle": "2021-09-03T11:35:33.190622Z",
          "shell.execute_reply.started": "2021-09-03T11:35:20.035719Z",
          "shell.execute_reply": "2021-09-03T11:35:33.189661Z"
        },
        "trusted": true
      },
      "source": [
        "import cv2\n",
        "from skimage import io\n",
        "import os\n",
        "\n",
        "###Extract the Each Image and Label them as 0 or 1  ( label the chagas images as 1 and non chagas as 0)\n",
        "# we can have seperate list(or any array) for each of them[images and their corresponding labels ] ( one containing the arrays representing Each Image and another containing values/labels )\n",
        "\n",
        "labels = []\n",
        "images = []\n",
        "file_name= []\n",
        "for file in os.listdir(training_dir_images):\n",
        "  if file.endswith(\".png\"):\n",
        "      \n",
        "    file_name.append(file.split(\".\")[0])\n",
        "    if file.split(\".\")[0] in Non_Chagas_Files:\n",
        "      labels.append(0)\n",
        "      \n",
        "      images.append(cv2.resize(cv2.imread(os.path.join(training_dir_images , file)), (256, 256)))\n",
        "      \n",
        "    else:\n",
        "      labels.append(1)\n",
        "      images.append(cv2.resize(cv2.imread(os.path.join(training_dir_images , file)), (256, 256)))\n",
        "\n",
        "  else:\n",
        "    pass\n",
        "\n",
        "for file in os.listdir(test_dir_images):\n",
        "  if file.endswith(\".png\"):\n",
        "\n",
        "\n",
        "    file_name.append(file.split(\".\")[0])\n",
        "    if file.split(\".\")[0] in Non_Chagas_Files:\n",
        "      labels.append(0)\n",
        "      images.append(cv2.resize(cv2.imread(os.path.join(test_dir_images , file)), (256, 256)))\n",
        "      \n",
        "    else:\n",
        "      labels.append(1)\n",
        "      images.append(cv2.resize(cv2.imread(os.path.join(test_dir_images , file)), (256, 256)))\n",
        "  \n",
        "  else:\n",
        "    pass\n",
        "\n",
        "\n",
        "for file in os.listdir(validation_dir_images):\n",
        "  if file.endswith(\".png\"):\n",
        "    \n",
        "\n",
        "    file_name.append(file.split(\".\")[0])\n",
        "    if file.split(\".\")[0] in Non_Chagas_Files:\n",
        "      labels.append(0)\n",
        "      images.append(cv2.resize(cv2.imread(os.path.join(validation_dir_images , file)), (256, 256)))\n",
        "    else:\n",
        "      labels.append(1)\n",
        "      images.append(cv2.resize(cv2.imread(os.path.join(validation_dir_images , file)), (256, 256)))\n",
        "  else:\n",
        "    pass\n",
        "# Where X is Array containing Arrays( representing Images)\n",
        "# Where Y is Array containing Labels(values as 0 and 1 ) ( representing labels for each Image)\n",
        "\n"
      ],
      "execution_count": null,
      "outputs": []
    },
    {
      "cell_type": "code",
      "metadata": {
        "id": "LoFI2Aea9M7j",
        "execution": {
          "iopub.status.busy": "2021-09-03T06:57:34.324525Z",
          "iopub.execute_input": "2021-09-03T06:57:34.32491Z",
          "iopub.status.idle": "2021-09-03T06:57:34.332502Z",
          "shell.execute_reply.started": "2021-09-03T06:57:34.324873Z",
          "shell.execute_reply": "2021-09-03T06:57:34.331733Z"
        },
        "trusted": true
      },
      "source": [
        ""
      ],
      "execution_count": null,
      "outputs": []
    },
    {
      "cell_type": "code",
      "metadata": {
        "id": "Gr5iUwxIUGuy",
        "execution": {
          "iopub.status.busy": "2021-09-03T11:35:39.130547Z",
          "iopub.execute_input": "2021-09-03T11:35:39.130893Z",
          "iopub.status.idle": "2021-09-03T11:35:41.929513Z",
          "shell.execute_reply.started": "2021-09-03T11:35:39.130861Z",
          "shell.execute_reply": "2021-09-03T11:35:41.928516Z"
        },
        "trusted": true
      },
      "source": [
        "for file_path in os.listdir(\"../input/non-chagas-data/Non-ChagasData_Selected\"):\n",
        "  if file_path.endswith(\".png\"):\n",
        "    labels.append(0)\n",
        "      \n",
        "    images.append(cv2.resize(cv2.imread(os.path.join(\"../input/non-chagas-data/Non-ChagasData_Selected\" , file_path)), (256, 256)))"
      ],
      "execution_count": null,
      "outputs": []
    },
    {
      "cell_type": "code",
      "metadata": {
        "id": "1BDcUpryZfjV",
        "execution": {
          "iopub.status.busy": "2021-09-03T11:35:43.308027Z",
          "iopub.execute_input": "2021-09-03T11:35:43.308365Z",
          "iopub.status.idle": "2021-09-03T11:35:43.315887Z",
          "shell.execute_reply.started": "2021-09-03T11:35:43.308332Z",
          "shell.execute_reply": "2021-09-03T11:35:43.314839Z"
        },
        "trusted": true,
        "outputId": "941d611b-4b45-4658-9b56-18628daceba3"
      },
      "source": [
        "import numpy as np\n",
        "np.unique(np.array(labels) ,return_counts = True )"
      ],
      "execution_count": null,
      "outputs": [
        {
          "execution_count": 103,
          "output_type": "execute_result",
          "data": {
            "text/plain": "(array([0, 1]), array([559, 940]))"
          },
          "metadata": {}
        }
      ]
    },
    {
      "cell_type": "code",
      "metadata": {
        "id": "u6kQpBEuFRkl",
        "execution": {
          "iopub.status.busy": "2021-09-02T16:22:28.53594Z",
          "iopub.execute_input": "2021-09-02T16:22:28.536426Z",
          "iopub.status.idle": "2021-09-02T16:22:28.54161Z",
          "shell.execute_reply.started": "2021-09-02T16:22:28.53631Z",
          "shell.execute_reply": "2021-09-02T16:22:28.540681Z"
        },
        "trusted": true
      },
      "source": [
        "#imagess = []\n",
        "#for imagesss in images:\n",
        "#  imagess.append(cv2.resize(imagesss , (256 , 256 )))"
      ],
      "execution_count": null,
      "outputs": []
    },
    {
      "cell_type": "code",
      "metadata": {
        "id": "0uLnafPI5TRB",
        "execution": {
          "iopub.status.busy": "2021-09-03T11:35:55.559603Z",
          "iopub.execute_input": "2021-09-03T11:35:55.559948Z",
          "iopub.status.idle": "2021-09-03T11:35:55.865720Z",
          "shell.execute_reply.started": "2021-09-03T11:35:55.559917Z",
          "shell.execute_reply": "2021-09-03T11:35:55.864675Z"
        },
        "trusted": true,
        "outputId": "e41faa62-08bb-4b14-eb10-af660ebcd0d5"
      },
      "source": [
        "\n",
        "# Split the Images and labels into Train , Test and Validation Data\n",
        "print(type(images))\n",
        "images = np.array(images , dtype = \"float32\")\n",
        "labels = np.array(labels, dtype = 'int32')\n",
        "print(type(images))\n"
      ],
      "execution_count": null,
      "outputs": [
        {
          "name": "stdout",
          "text": "<class 'list'>\n<class 'numpy.ndarray'>\n",
          "output_type": "stream"
        }
      ]
    },
    {
      "cell_type": "code",
      "metadata": {
        "id": "3UvBwwC-89TG",
        "execution": {
          "iopub.status.busy": "2021-09-03T10:48:27.982087Z",
          "iopub.execute_input": "2021-09-03T10:48:27.982423Z",
          "iopub.status.idle": "2021-09-03T10:48:27.987725Z",
          "shell.execute_reply.started": "2021-09-03T10:48:27.982392Z",
          "shell.execute_reply": "2021-09-03T10:48:27.98659Z"
        },
        "trusted": true
      },
      "source": [
        "print(images.shape[0])\n",
        "print(labels.shape[0])\n"
      ],
      "execution_count": null,
      "outputs": []
    },
    {
      "cell_type": "code",
      "metadata": {
        "id": "PIRLlkKV9GpG",
        "execution": {
          "iopub.status.busy": "2021-09-02T16:22:28.853265Z",
          "iopub.execute_input": "2021-09-02T16:22:28.853859Z",
          "iopub.status.idle": "2021-09-02T16:22:28.859913Z",
          "shell.execute_reply.started": "2021-09-02T16:22:28.853822Z",
          "shell.execute_reply": "2021-09-02T16:22:28.85909Z"
        },
        "trusted": true
      },
      "source": [
        "\n",
        "#n = np.arange(images.shape[0])\n",
        "#np.random.shuffle(n)\n",
        "#images = images[n]\n",
        "#labels = labels[n]\n"
      ],
      "execution_count": null,
      "outputs": []
    },
    {
      "cell_type": "code",
      "metadata": {
        "id": "j5b2hNue_n8l",
        "execution": {
          "iopub.status.busy": "2021-09-03T11:36:03.452289Z",
          "iopub.execute_input": "2021-09-03T11:36:03.452675Z",
          "iopub.status.idle": "2021-09-03T11:36:03.873367Z",
          "shell.execute_reply.started": "2021-09-03T11:36:03.452642Z",
          "shell.execute_reply": "2021-09-03T11:36:03.872462Z"
        },
        "trusted": true
      },
      "source": [
        "import random\n",
        "\n",
        "# Shuffle\n",
        "from sklearn.utils import shuffle\n",
        "#images, labels = shuffle(images, labels, random_state=10)\n",
        "from sklearn.model_selection import train_test_split\n",
        "from sklearn.metrics import accuracy_score, confusion_matrix\n",
        "\n",
        "train_images, test_images, train_labels, test_labels = train_test_split(images, labels, test_size = 0.2 , random_state=10)\n",
        "test_images, val_images, test_labels, val_labels = train_test_split(test_images, test_labels, test_size = 0.5 , random_state=10)\n",
        "\n"
      ],
      "execution_count": null,
      "outputs": []
    },
    {
      "cell_type": "code",
      "metadata": {
        "id": "7ZABYMcVIIxF",
        "execution": {
          "iopub.status.busy": "2021-09-03T09:25:28.762178Z",
          "iopub.execute_input": "2021-09-03T09:25:28.762527Z",
          "iopub.status.idle": "2021-09-03T09:25:28.772136Z",
          "shell.execute_reply.started": "2021-09-03T09:25:28.762494Z",
          "shell.execute_reply": "2021-09-03T09:25:28.771267Z"
        },
        "trusted": true
      },
      "source": [
        "test_labels"
      ],
      "execution_count": null,
      "outputs": []
    },
    {
      "cell_type": "code",
      "metadata": {
        "id": "wNEEJfV3BJeF",
        "execution": {
          "iopub.status.busy": "2021-09-03T11:36:10.405435Z",
          "iopub.execute_input": "2021-09-03T11:36:10.405837Z",
          "iopub.status.idle": "2021-09-03T11:36:10.416207Z",
          "shell.execute_reply.started": "2021-09-03T11:36:10.405801Z",
          "shell.execute_reply": "2021-09-03T11:36:10.414910Z"
        },
        "trusted": true,
        "outputId": "f75bf0b8-481b-498c-bafb-e87a08f3403d"
      },
      "source": [
        "n_train = train_labels.shape[0]\n",
        "n_val = val_labels.shape[0]\n",
        "n_test = test_labels.shape[0]\n",
        "\n",
        "print(\"Number of training examples: {}\".format(n_train))\n",
        "print(\"Number of validation examples: {}\".format(n_val))\n",
        "print(\"Number of testing examples: {}\".format(n_test))\n",
        "\n",
        "print(\"Training images are of shape: {}\".format(train_images.shape))\n",
        "print(\"Training labels are of shape: {}\".format(train_labels.shape))\n",
        "print(\"Validation images are of shape: {}\".format(val_images.shape))\n",
        "print(\"Validation labels are of shape: {}\".format(val_labels.shape))\n",
        "print(\"Test images are of shape: {}\".format(test_images.shape))\n",
        "print(\"Test labels are of shape: {}\".format(test_labels.shape))"
      ],
      "execution_count": null,
      "outputs": [
        {
          "name": "stdout",
          "text": "Number of training examples: 1199\nNumber of validation examples: 150\nNumber of testing examples: 150\nTraining images are of shape: (1199, 256, 256, 3)\nTraining labels are of shape: (1199,)\nValidation images are of shape: (150, 256, 256, 3)\nValidation labels are of shape: (150,)\nTest images are of shape: (150, 256, 256, 3)\nTest labels are of shape: (150,)\n",
          "output_type": "stream"
        }
      ]
    },
    {
      "cell_type": "code",
      "metadata": {
        "id": "3DsBcyImBQE3",
        "execution": {
          "iopub.status.busy": "2021-09-03T11:36:18.613680Z",
          "iopub.execute_input": "2021-09-03T11:36:18.614026Z",
          "iopub.status.idle": "2021-09-03T11:36:18.968290Z",
          "shell.execute_reply.started": "2021-09-03T11:36:18.613996Z",
          "shell.execute_reply": "2021-09-03T11:36:18.967270Z"
        },
        "trusted": true
      },
      "source": [
        "train_images = train_images / 255.0 \n",
        "val_images = val_images / 255.0\n",
        "test_images = test_images / 255.0"
      ],
      "execution_count": null,
      "outputs": []
    },
    {
      "cell_type": "code",
      "metadata": {
        "id": "xX4grPtaDNzG",
        "execution": {
          "iopub.status.busy": "2021-09-03T11:36:21.526107Z",
          "iopub.execute_input": "2021-09-03T11:36:21.526463Z",
          "iopub.status.idle": "2021-09-03T11:36:21.534896Z",
          "shell.execute_reply.started": "2021-09-03T11:36:21.526416Z",
          "shell.execute_reply": "2021-09-03T11:36:21.533569Z"
        },
        "trusted": true
      },
      "source": [
        "from __future__ import print_function\n",
        "from keras.preprocessing.image import ImageDataGenerator, img_to_array, load_img\n",
        "from keras.layers import Conv2D, MaxPooling2D, UpSampling2D, BatchNormalization, Reshape, Permute, Activation, Input, \\\n",
        "    add, multiply ,  Dense, Conv2D, Activation, Flatten\n",
        "from keras.layers import concatenate, core, Dropout\n",
        "from tensorflow.keras.models import Model\n",
        "from tensorflow.keras.optimizers import Adam\n",
        "from tensorflow.keras.optimizers import SGD\n",
        "from keras.layers.core import Lambda\n",
        "#import keras.backend as K\n",
        "from keras.layers import Input, Conv2D, UpSampling2D, BatchNormalization, Activation, add,average,concatenate , Conv2DTranspose\n",
        "from keras.layers.core import Lambda\n",
        "from keras.optimizers import Adam\n",
        "from keras.losses import binary_crossentropy\n",
        "#%tensorflow_version 1.x\n",
        "from keras.callbacks import TensorBoard\n",
        "from keras.callbacks import CSVLogger\n",
        "from glob import glob\n",
        "from sklearn.model_selection import train_test_split\n",
        "\n",
        "\n",
        "import keras\n",
        "import tensorflow as tf\n",
        "#import keras.backend.tensorflow_backend as K\n",
        "import keras.backend as K\n",
        "import matplotlib.pyplot as plt\n",
        "\n",
        "import tensorflow as tf\n",
        "import cv2\n",
        "\n",
        "\n",
        "import numpy as np\n",
        "\n"
      ],
      "execution_count": null,
      "outputs": []
    },
    {
      "cell_type": "code",
      "metadata": {
        "id": "xpg3ex-MIIxJ",
        "execution": {
          "iopub.status.busy": "2021-09-03T11:36:27.223018Z",
          "iopub.execute_input": "2021-09-03T11:36:27.223384Z",
          "iopub.status.idle": "2021-09-03T11:36:27.229828Z",
          "shell.execute_reply.started": "2021-09-03T11:36:27.223347Z",
          "shell.execute_reply": "2021-09-03T11:36:27.228616Z"
        },
        "trusted": true
      },
      "source": [
        "\n",
        "from keras.models import Sequential, Model \n",
        "from keras.layers import Lambda, SeparableConv2D, BatchNormalization, Dropout, MaxPooling2D, Input, Dense, Conv2D, Activation, Flatten \n",
        "\n",
        "from sklearn.metrics import accuracy_score, confusion_matrix\n",
        "\n",
        "from keras import backend as K\n",
        "from keras.losses import binary_crossentropy\n",
        "import tensorflow as tf\n",
        "import os\n",
        "import skimage.io as io\n",
        "import skimage.transform as trans\n",
        "import cv2\n",
        "import warnings\n",
        "warnings.filterwarnings(\"ignore\")\n"
      ],
      "execution_count": null,
      "outputs": []
    },
    {
      "cell_type": "markdown",
      "metadata": {
        "id": "AMfBZ9_6IIxK"
      },
      "source": [
        "## Metrics"
      ]
    },
    {
      "cell_type": "code",
      "metadata": {
        "id": "NKHmFHuXIIxM",
        "execution": {
          "iopub.status.busy": "2021-09-03T11:36:32.234210Z",
          "iopub.execute_input": "2021-09-03T11:36:32.234582Z",
          "iopub.status.idle": "2021-09-03T11:36:32.243110Z",
          "shell.execute_reply.started": "2021-09-03T11:36:32.234547Z",
          "shell.execute_reply": "2021-09-03T11:36:32.242019Z"
        },
        "trusted": true
      },
      "source": [
        "\n",
        "\n",
        "def precision(y_true, y_pred):\n",
        "    \"\"\"Precision metric.\n",
        "\n",
        "    Only computes a batch-wise average of precision.\n",
        "\n",
        "    Computes the precision, a metric for multi-label classification of\n",
        "    how many selected items are relevant.\n",
        "    \"\"\"\n",
        "    true_positives = K.sum(K.round(K.clip(y_true * y_pred, 0, 1)))\n",
        "    predicted_positives = K.sum(K.round(K.clip(y_pred, 0, 1)))\n",
        "    precision = true_positives / (predicted_positives + K.epsilon())\n",
        "    return precision\n",
        "def recall(y_true, y_pred):\n",
        "        \"\"\"Recall metric.\n",
        "\n",
        "        Only computes a batch-wise average of recall.\n",
        "\n",
        "        Computes the recall, a metric for multi-label classification of\n",
        "        how many relevant items are selected.\n",
        "        \"\"\"\n",
        "        true_positives = K.sum(K.round(K.clip(y_true * y_pred, 0, 1)))\n",
        "        possible_positives = K.sum(K.round(K.clip(y_true, 0, 1)))\n",
        "        recall = true_positives / (possible_positives + K.epsilon())\n",
        "        return recall\n"
      ],
      "execution_count": null,
      "outputs": []
    },
    {
      "cell_type": "markdown",
      "metadata": {
        "id": "3H2S9kRuIIxM"
      },
      "source": [
        "# One Hot Encodeing"
      ]
    },
    {
      "cell_type": "code",
      "metadata": {
        "id": "GghJbn7xIIxN",
        "execution": {
          "iopub.status.busy": "2021-09-03T11:36:37.773136Z",
          "iopub.execute_input": "2021-09-03T11:36:37.773521Z",
          "iopub.status.idle": "2021-09-03T11:36:37.778539Z",
          "shell.execute_reply.started": "2021-09-03T11:36:37.773485Z",
          "shell.execute_reply": "2021-09-03T11:36:37.777633Z"
        },
        "trusted": true
      },
      "source": [
        "#One hot encode y values for neural network. \n",
        "from keras.utils import to_categorical\n",
        "train_labels_one_hot = to_categorical(train_labels)\n",
        "test_labels_one_hot = to_categorical(test_labels)\n",
        "val_labels_one_hot = to_categorical(val_labels)\n"
      ],
      "execution_count": null,
      "outputs": []
    },
    {
      "cell_type": "markdown",
      "metadata": {
        "id": "LMhCYnMoIIxO"
      },
      "source": [
        "# **Data_Augmentation**"
      ]
    },
    {
      "cell_type": "code",
      "metadata": {
        "id": "zsmDDcXZIIxO",
        "execution": {
          "iopub.status.busy": "2021-09-03T11:36:40.645135Z",
          "iopub.execute_input": "2021-09-03T11:36:40.645498Z",
          "iopub.status.idle": "2021-09-03T11:36:40.661120Z",
          "shell.execute_reply.started": "2021-09-03T11:36:40.645440Z",
          "shell.execute_reply": "2021-09-03T11:36:40.660060Z"
        },
        "trusted": true
      },
      "source": [
        "from tensorflow.keras import layers\n",
        "\n",
        "data_augmentation = keras.Sequential(\n",
        "    [\n",
        "        layers.experimental.preprocessing.RandomFlip(\"horizontal\"),\n",
        "        layers.experimental.preprocessing.RandomRotation(0.1),\n",
        "    ]\n",
        ")"
      ],
      "execution_count": null,
      "outputs": []
    },
    {
      "cell_type": "markdown",
      "metadata": {
        "id": "ESLUYDNWIIxk"
      },
      "source": [
        "# VGG-Net Pretrained Model"
      ]
    },
    {
      "cell_type": "code",
      "metadata": {
        "id": "fqOLXkOpBUA0",
        "execution": {
          "iopub.status.busy": "2021-09-03T11:37:47.741960Z",
          "iopub.execute_input": "2021-09-03T11:37:47.742356Z",
          "iopub.status.idle": "2021-09-03T11:37:48.052550Z",
          "shell.execute_reply.started": "2021-09-03T11:37:47.742321Z",
          "shell.execute_reply": "2021-09-03T11:37:48.051667Z"
        },
        "trusted": true,
        "outputId": "e3a65060-ef08-4ca1-f7e4-492eed1a2a3f"
      },
      "source": [
        "#One hot encode y values for neural network. If we have Multiple Class Problem and we don't use sparse_categorical_loss\n",
        "# It is used when we use categorical_loss function for multi class problem\n",
        "\n",
        "\n",
        "IMG_SIZE = 256\n",
        "#############################\n",
        "#Load model wothout classifier/fully connected layers\n",
        "VGG_model = VGG16(weights='imagenet', include_top=False, input_shape=(IMG_SIZE, IMG_SIZE , 3))\n",
        "\n",
        "#Make loaded layers as non-trainable. This is important as we want to work with pre-trained weights\n",
        "for layer in VGG_model.layers:\n",
        "\tlayer.trainable = False\n",
        "    \n",
        "VGG_model.summary()  #Trainable parameters will be 0\n",
        "\n",
        "#for layer in VGG_model.layers:\n",
        "#    print(layer)\n",
        "    "
      ],
      "execution_count": null,
      "outputs": [
        {
          "name": "stdout",
          "text": "Model: \"vgg16\"\n_________________________________________________________________\nLayer (type)                 Output Shape              Param #   \n=================================================================\ninput_9 (InputLayer)         [(None, 256, 256, 3)]     0         \n_________________________________________________________________\nblock1_conv1 (Conv2D)        (None, 256, 256, 64)      1792      \n_________________________________________________________________\nblock1_conv2 (Conv2D)        (None, 256, 256, 64)      36928     \n_________________________________________________________________\nblock1_pool (MaxPooling2D)   (None, 128, 128, 64)      0         \n_________________________________________________________________\nblock2_conv1 (Conv2D)        (None, 128, 128, 128)     73856     \n_________________________________________________________________\nblock2_conv2 (Conv2D)        (None, 128, 128, 128)     147584    \n_________________________________________________________________\nblock2_pool (MaxPooling2D)   (None, 64, 64, 128)       0         \n_________________________________________________________________\nblock3_conv1 (Conv2D)        (None, 64, 64, 256)       295168    \n_________________________________________________________________\nblock3_conv2 (Conv2D)        (None, 64, 64, 256)       590080    \n_________________________________________________________________\nblock3_conv3 (Conv2D)        (None, 64, 64, 256)       590080    \n_________________________________________________________________\nblock3_pool (MaxPooling2D)   (None, 32, 32, 256)       0         \n_________________________________________________________________\nblock4_conv1 (Conv2D)        (None, 32, 32, 512)       1180160   \n_________________________________________________________________\nblock4_conv2 (Conv2D)        (None, 32, 32, 512)       2359808   \n_________________________________________________________________\nblock4_conv3 (Conv2D)        (None, 32, 32, 512)       2359808   \n_________________________________________________________________\nblock4_pool (MaxPooling2D)   (None, 16, 16, 512)       0         \n_________________________________________________________________\nblock5_conv1 (Conv2D)        (None, 16, 16, 512)       2359808   \n_________________________________________________________________\nblock5_conv2 (Conv2D)        (None, 16, 16, 512)       2359808   \n_________________________________________________________________\nblock5_conv3 (Conv2D)        (None, 16, 16, 512)       2359808   \n_________________________________________________________________\nblock5_pool (MaxPooling2D)   (None, 8, 8, 512)         0         \n=================================================================\nTotal params: 14,714,688\nTrainable params: 0\nNon-trainable params: 14,714,688\n_________________________________________________________________\n",
          "output_type": "stream"
        }
      ]
    },
    {
      "cell_type": "markdown",
      "metadata": {
        "id": "YfoRW_25IIxl"
      },
      "source": [
        "### Training Some Layers of VGGNet and Freeze the Weights of other Layers\n"
      ]
    },
    {
      "cell_type": "code",
      "metadata": {
        "id": "_borZxrMIIxl",
        "execution": {
          "iopub.status.busy": "2021-09-03T11:37:53.373094Z",
          "iopub.execute_input": "2021-09-03T11:37:53.373436Z",
          "iopub.status.idle": "2021-09-03T11:37:53.392839Z",
          "shell.execute_reply.started": "2021-09-03T11:37:53.373400Z",
          "shell.execute_reply": "2021-09-03T11:37:53.386620Z"
        },
        "trusted": true,
        "outputId": "b6335491-73c6-4d4f-d040-8f6925aec1e2"
      },
      "source": [
        "VGG_model.layers[-1].trainable = True\n",
        "VGG_model.layers[-2].trainable = True\n",
        "VGG_model.layers[-3].trainable = True\n",
        "VGG_model.layers[-4].trainable = True\n",
        "VGG_model.summary()"
      ],
      "execution_count": null,
      "outputs": [
        {
          "name": "stdout",
          "text": "Model: \"vgg16\"\n_________________________________________________________________\nLayer (type)                 Output Shape              Param #   \n=================================================================\ninput_9 (InputLayer)         [(None, 256, 256, 3)]     0         \n_________________________________________________________________\nblock1_conv1 (Conv2D)        (None, 256, 256, 64)      1792      \n_________________________________________________________________\nblock1_conv2 (Conv2D)        (None, 256, 256, 64)      36928     \n_________________________________________________________________\nblock1_pool (MaxPooling2D)   (None, 128, 128, 64)      0         \n_________________________________________________________________\nblock2_conv1 (Conv2D)        (None, 128, 128, 128)     73856     \n_________________________________________________________________\nblock2_conv2 (Conv2D)        (None, 128, 128, 128)     147584    \n_________________________________________________________________\nblock2_pool (MaxPooling2D)   (None, 64, 64, 128)       0         \n_________________________________________________________________\nblock3_conv1 (Conv2D)        (None, 64, 64, 256)       295168    \n_________________________________________________________________\nblock3_conv2 (Conv2D)        (None, 64, 64, 256)       590080    \n_________________________________________________________________\nblock3_conv3 (Conv2D)        (None, 64, 64, 256)       590080    \n_________________________________________________________________\nblock3_pool (MaxPooling2D)   (None, 32, 32, 256)       0         \n_________________________________________________________________\nblock4_conv1 (Conv2D)        (None, 32, 32, 512)       1180160   \n_________________________________________________________________\nblock4_conv2 (Conv2D)        (None, 32, 32, 512)       2359808   \n_________________________________________________________________\nblock4_conv3 (Conv2D)        (None, 32, 32, 512)       2359808   \n_________________________________________________________________\nblock4_pool (MaxPooling2D)   (None, 16, 16, 512)       0         \n_________________________________________________________________\nblock5_conv1 (Conv2D)        (None, 16, 16, 512)       2359808   \n_________________________________________________________________\nblock5_conv2 (Conv2D)        (None, 16, 16, 512)       2359808   \n_________________________________________________________________\nblock5_conv3 (Conv2D)        (None, 16, 16, 512)       2359808   \n_________________________________________________________________\nblock5_pool (MaxPooling2D)   (None, 8, 8, 512)         0         \n=================================================================\nTotal params: 14,714,688\nTrainable params: 7,079,424\nNon-trainable params: 7,635,264\n_________________________________________________________________\n",
          "output_type": "stream"
        }
      ]
    },
    {
      "cell_type": "markdown",
      "metadata": {
        "id": "SnzUs7TlIIxm"
      },
      "source": [
        "#### Input goes to VGG and We extract Some Features from it\n",
        "#### We also add some layers to VGG Model and Make a New Model (based on VGGNet )\n",
        "#### We train that New Model with our Chagas Image Data"
      ]
    },
    {
      "cell_type": "code",
      "metadata": {
        "id": "KxMYl3MeIIxm",
        "execution": {
          "iopub.status.busy": "2021-09-03T11:38:00.594067Z",
          "iopub.execute_input": "2021-09-03T11:38:00.594428Z",
          "iopub.status.idle": "2021-09-03T11:38:00.794026Z",
          "shell.execute_reply.started": "2021-09-03T11:38:00.594394Z",
          "shell.execute_reply": "2021-09-03T11:38:00.793183Z"
        },
        "trusted": true,
        "outputId": "9c4d0908-8f36-4952-9ef1-f6dd8bda9fb4"
      },
      "source": [
        "# Freeze the base_model\n",
        "#VGG_model.trainable = False\n",
        "\n",
        "# Create new model on top\n",
        "inputs = keras.Input(shape=(IMG_SIZE, IMG_SIZE, 3))\n",
        "x = data_augmentation(inputs)  # Apply random data augmentation\n",
        "\n",
        "x = VGG_model(x)\n",
        "x = keras.layers.GlobalAveragePooling2D()(x)\n",
        "#x = keras.layers.Dropout(0.5)(x)  # Regularize with dropout\n",
        "\n",
        "x = Dense(units = 512 , activation = 'relu' , kernel_regularizer=l2(0.01) )(x)\n",
        "x = Dropout(0.7)(x)\n",
        "x = Dense(units = 128 , activation = 'relu' ,  kernel_regularizer=l2(0.01) )(x)\n",
        "x = Dropout(0.5)(x)\n",
        "x=  Dense(units = 64 , activation = 'relu' ,  kernel_regularizer=l2(0.01) )(x)\n",
        "x = Dropout(0.3)(x)\n",
        "outputs = keras.layers.Dense(1)(x)\n",
        "model = keras.Model(inputs, outputs)\n",
        "\n",
        "model.summary()"
      ],
      "execution_count": null,
      "outputs": [
        {
          "name": "stdout",
          "text": "Model: \"model_7\"\n_________________________________________________________________\nLayer (type)                 Output Shape              Param #   \n=================================================================\ninput_10 (InputLayer)        [(None, 256, 256, 3)]     0         \n_________________________________________________________________\nsequential_3 (Sequential)    (None, 256, 256, 3)       0         \n_________________________________________________________________\nvgg16 (Functional)           (None, 8, 8, 512)         14714688  \n_________________________________________________________________\nglobal_average_pooling2d_4 ( (None, 512)               0         \n_________________________________________________________________\ndense_20 (Dense)             (None, 512)               262656    \n_________________________________________________________________\ndropout_15 (Dropout)         (None, 512)               0         \n_________________________________________________________________\ndense_21 (Dense)             (None, 128)               65664     \n_________________________________________________________________\ndropout_16 (Dropout)         (None, 128)               0         \n_________________________________________________________________\ndense_22 (Dense)             (None, 64)                8256      \n_________________________________________________________________\ndropout_17 (Dropout)         (None, 64)                0         \n_________________________________________________________________\ndense_23 (Dense)             (None, 1)                 65        \n=================================================================\nTotal params: 15,051,329\nTrainable params: 7,416,065\nNon-trainable params: 7,635,264\n_________________________________________________________________\n",
          "output_type": "stream"
        }
      ]
    },
    {
      "cell_type": "code",
      "metadata": {
        "execution": {
          "iopub.status.busy": "2021-09-03T11:38:06.974253Z",
          "iopub.execute_input": "2021-09-03T11:38:06.974611Z",
          "iopub.status.idle": "2021-09-03T11:38:06.989422Z",
          "shell.execute_reply.started": "2021-09-03T11:38:06.974577Z",
          "shell.execute_reply": "2021-09-03T11:38:06.988481Z"
        },
        "trusted": true,
        "id": "uUmhR8Yk8aLG"
      },
      "source": [
        "model.compile(\n",
        "    optimizer=keras.optimizers.Adam(8.00E-05),\n",
        "    loss=keras.losses.BinaryCrossentropy(from_logits=True),\n",
        "    metrics=[\"accuracy\" , precision, recall],\n",
        ")\n",
        "from tensorflow.keras.callbacks import EarlyStopping, ModelCheckpoint, ReduceLROnPlateau\n",
        "\n",
        "model_checkpoint1 = keras.callbacks.ModelCheckpoint('VGGNet_Fine_Tunned.hdf5', monitor='val_loss',verbose=1, mode='min',save_best_only=True)\n",
        "csv_logger = CSVLogger('training_model_metrics_values.log', append=True, separator=';')\n"
      ],
      "execution_count": null,
      "outputs": []
    },
    {
      "cell_type": "markdown",
      "metadata": {
        "id": "glaYL-SU89S5"
      },
      "source": [
        "#**I have trained the VGGNet Model in Already and Loaded the weights here**"
      ]
    },
    {
      "cell_type": "code",
      "metadata": {
        "execution": {
          "iopub.status.busy": "2021-09-03T11:38:26.700409Z",
          "iopub.execute_input": "2021-09-03T11:38:26.700811Z",
          "iopub.status.idle": "2021-09-03T11:38:28.289636Z",
          "shell.execute_reply.started": "2021-09-03T11:38:26.700774Z",
          "shell.execute_reply": "2021-09-03T11:38:28.288665Z"
        },
        "trusted": true,
        "id": "ncPwaZL98aLG"
      },
      "source": [
        "model.load_weights(\"../input/vggnet-fine-tuned-weights/VGGNet_Fine_Tunned (1).hdf5\")"
      ],
      "execution_count": null,
      "outputs": []
    },
    {
      "cell_type": "markdown",
      "metadata": {
        "id": "7c4-e1J5IIxo"
      },
      "source": [
        "### Accuracy and Predication of VGGNet (Training Last Layers Only)"
      ]
    },
    {
      "cell_type": "code",
      "metadata": {
        "id": "HwkjhCIgIIxo",
        "execution": {
          "iopub.status.busy": "2021-09-03T11:38:41.884758Z",
          "iopub.execute_input": "2021-09-03T11:38:41.885201Z",
          "iopub.status.idle": "2021-09-03T11:38:47.144254Z",
          "shell.execute_reply.started": "2021-09-03T11:38:41.885157Z",
          "shell.execute_reply": "2021-09-03T11:38:47.143433Z"
        },
        "trusted": true,
        "outputId": "77375441-305a-4603-b0df-1de99ece9150"
      },
      "source": [
        "\n",
        "print(\"Train_Accuracy\" )\n",
        "train_results = model.evaluate(train_images, train_labels)\n",
        "\n",
        "print(\"Val_Accuracy\" )\n",
        "val_results = model.evaluate(val_images, val_labels)\n",
        "\n",
        "print(\"Test_Accuracy\" )\n",
        "test_results = model.evaluate(test_images, test_labels)"
      ],
      "execution_count": null,
      "outputs": [
        {
          "name": "stdout",
          "text": "Train_Accuracy\n38/38 [==============================] - 3s 79ms/step - loss: 0.1255 - accuracy: 0.9538 - precision: 0.9289 - recall: 0.9999\nVal_Accuracy\n5/5 [==============================] - 0s 80ms/step - loss: 0.1521 - accuracy: 0.9800 - precision: 0.9734 - recall: 1.0000\nTest_Accuracy\n5/5 [==============================] - 0s 75ms/step - loss: 0.2107 - accuracy: 0.9733 - precision: 0.9628 - recall: 0.9895\n",
          "output_type": "stream"
        }
      ]
    },
    {
      "cell_type": "code",
      "metadata": {
        "id": "590M4TvRIIxp",
        "execution": {
          "iopub.status.busy": "2021-09-03T11:38:51.765220Z",
          "iopub.execute_input": "2021-09-03T11:38:51.765591Z",
          "iopub.status.idle": "2021-09-03T11:38:52.389029Z",
          "shell.execute_reply.started": "2021-09-03T11:38:51.765556Z",
          "shell.execute_reply": "2021-09-03T11:38:52.388149Z"
        },
        "trusted": true,
        "outputId": "5de55da4-8256-4477-acad-c5f14b0a010e"
      },
      "source": [
        "\n",
        "vgg_model_pred = model.predict(test_images)\n",
        "pred = [1 if x > 0 else 0 for x in list(vgg_model_pred[: , 0])]\n",
        "vgg_model_pred = np.array(pred)\n",
        "vgg_model_pred"
      ],
      "execution_count": null,
      "outputs": [
        {
          "execution_count": 119,
          "output_type": "execute_result",
          "data": {
            "text/plain": "array([1, 1, 1, 1, 0, 0, 1, 0, 1, 1, 1, 0, 1, 0, 0, 0, 1, 1, 0, 1, 1, 1,\n       0, 1, 0, 1, 0, 1, 1, 1, 0, 1, 0, 1, 0, 0, 0, 0, 0, 1, 1, 0, 1, 1,\n       1, 1, 0, 0, 0, 1, 0, 0, 1, 0, 1, 1, 1, 0, 1, 0, 0, 1, 1, 0, 0, 1,\n       0, 1, 1, 1, 0, 1, 1, 1, 1, 0, 1, 0, 0, 1, 1, 1, 0, 0, 1, 0, 0, 0,\n       1, 1, 1, 1, 1, 1, 0, 0, 1, 1, 0, 1, 0, 0, 0, 0, 1, 1, 1, 1, 1, 1,\n       0, 1, 1, 0, 1, 0, 0, 0, 1, 1, 1, 1, 0, 1, 1, 0, 0, 0, 1, 0, 0, 0,\n       0, 1, 0, 1, 1, 1, 1, 0, 1, 1, 1, 1, 1, 0, 1, 1, 1, 1])"
          },
          "metadata": {}
        }
      ]
    },
    {
      "cell_type": "code",
      "metadata": {
        "id": "WX6SZh15IIxr",
        "execution": {
          "iopub.status.busy": "2021-09-03T10:14:31.87126Z",
          "iopub.execute_input": "2021-09-03T10:14:31.871617Z",
          "iopub.status.idle": "2021-09-03T10:14:31.877841Z",
          "shell.execute_reply.started": "2021-09-03T10:14:31.871586Z",
          "shell.execute_reply": "2021-09-03T10:14:31.876856Z"
        },
        "trusted": true
      },
      "source": [
        "VGG_model.inputs"
      ],
      "execution_count": null,
      "outputs": []
    },
    {
      "cell_type": "code",
      "metadata": {
        "id": "VrvwPSQ2IIxr",
        "execution": {
          "iopub.status.busy": "2021-09-03T11:39:01.384095Z",
          "iopub.execute_input": "2021-09-03T11:39:01.384606Z",
          "iopub.status.idle": "2021-09-03T11:39:01.406857Z",
          "shell.execute_reply.started": "2021-09-03T11:39:01.384558Z",
          "shell.execute_reply": "2021-09-03T11:39:01.402720Z"
        },
        "trusted": true,
        "outputId": "61c7d4cf-1ce9-4248-dbfb-591846092c1b"
      },
      "source": [
        "VGG_Fine_tunned = Model(VGG_model.inputs , model.get_layer(\"vgg16\").output)\n",
        "VGG_Fine_tunned.summary()"
      ],
      "execution_count": null,
      "outputs": [
        {
          "name": "stdout",
          "text": "Model: \"model_8\"\n_________________________________________________________________\nLayer (type)                 Output Shape              Param #   \n=================================================================\ninput_9 (InputLayer)         [(None, 256, 256, 3)]     0         \n_________________________________________________________________\nblock1_conv1 (Conv2D)        (None, 256, 256, 64)      1792      \n_________________________________________________________________\nblock1_conv2 (Conv2D)        (None, 256, 256, 64)      36928     \n_________________________________________________________________\nblock1_pool (MaxPooling2D)   (None, 128, 128, 64)      0         \n_________________________________________________________________\nblock2_conv1 (Conv2D)        (None, 128, 128, 128)     73856     \n_________________________________________________________________\nblock2_conv2 (Conv2D)        (None, 128, 128, 128)     147584    \n_________________________________________________________________\nblock2_pool (MaxPooling2D)   (None, 64, 64, 128)       0         \n_________________________________________________________________\nblock3_conv1 (Conv2D)        (None, 64, 64, 256)       295168    \n_________________________________________________________________\nblock3_conv2 (Conv2D)        (None, 64, 64, 256)       590080    \n_________________________________________________________________\nblock3_conv3 (Conv2D)        (None, 64, 64, 256)       590080    \n_________________________________________________________________\nblock3_pool (MaxPooling2D)   (None, 32, 32, 256)       0         \n_________________________________________________________________\nblock4_conv1 (Conv2D)        (None, 32, 32, 512)       1180160   \n_________________________________________________________________\nblock4_conv2 (Conv2D)        (None, 32, 32, 512)       2359808   \n_________________________________________________________________\nblock4_conv3 (Conv2D)        (None, 32, 32, 512)       2359808   \n_________________________________________________________________\nblock4_pool (MaxPooling2D)   (None, 16, 16, 512)       0         \n_________________________________________________________________\nblock5_conv1 (Conv2D)        (None, 16, 16, 512)       2359808   \n_________________________________________________________________\nblock5_conv2 (Conv2D)        (None, 16, 16, 512)       2359808   \n_________________________________________________________________\nblock5_conv3 (Conv2D)        (None, 16, 16, 512)       2359808   \n_________________________________________________________________\nblock5_pool (MaxPooling2D)   (None, 8, 8, 512)         0         \n=================================================================\nTotal params: 14,714,688\nTrainable params: 7,079,424\nNon-trainable params: 7,635,264\n_________________________________________________________________\n",
          "output_type": "stream"
        }
      ]
    },
    {
      "cell_type": "code",
      "metadata": {
        "execution": {
          "iopub.status.busy": "2021-09-03T11:39:08.580880Z",
          "iopub.execute_input": "2021-09-03T11:39:08.581334Z",
          "iopub.status.idle": "2021-09-03T11:39:08.589021Z",
          "shell.execute_reply.started": "2021-09-03T11:39:08.581265Z",
          "shell.execute_reply": "2021-09-03T11:39:08.588043Z"
        },
        "trusted": true,
        "id": "-yg5TP-b8aLI"
      },
      "source": [
        "from sklearn.metrics import classification_report\n"
      ],
      "execution_count": null,
      "outputs": []
    },
    {
      "cell_type": "markdown",
      "metadata": {
        "id": "yAWXUi8zIIxs"
      },
      "source": [
        "# Extracting Features From Transfer Learned VGGNet Model "
      ]
    },
    {
      "cell_type": "code",
      "metadata": {
        "id": "Dl2tvbxoj33w",
        "execution": {
          "iopub.status.busy": "2021-09-03T11:39:14.453830Z",
          "iopub.execute_input": "2021-09-03T11:39:14.454174Z",
          "iopub.status.idle": "2021-09-03T11:39:18.254656Z",
          "shell.execute_reply.started": "2021-09-03T11:39:14.454142Z",
          "shell.execute_reply": "2021-09-03T11:39:18.253750Z"
        },
        "trusted": true
      },
      "source": [
        "\n",
        "#Now, let us use features from convolutional network for RF\n",
        "feature_extractor=VGG_Fine_tunned.predict(train_images)\n",
        "\n",
        "features = feature_extractor.reshape(feature_extractor.shape[0], -1)\n",
        "\n",
        "X_for_training = features #This is our X input to Machine learning Model or PCA or to Dense Layer\n",
        "## Features shape would be ( No_of_train_images    ,   Width_of_last_channel * Height_of_last_channel* Number_of_Filters_in_last_layer )\n"
      ],
      "execution_count": null,
      "outputs": []
    },
    {
      "cell_type": "markdown",
      "metadata": {
        "id": "Ko-Vb99a2WSJ"
      },
      "source": [
        "# ****Feature Reduction Techniques****"
      ]
    },
    {
      "cell_type": "code",
      "metadata": {
        "id": "walLvPpI2VPT",
        "execution": {
          "iopub.status.busy": "2021-09-03T11:39:21.103198Z",
          "iopub.execute_input": "2021-09-03T11:39:21.103617Z",
          "iopub.status.idle": "2021-09-03T11:39:21.346041Z",
          "shell.execute_reply.started": "2021-09-03T11:39:21.103580Z",
          "shell.execute_reply": "2021-09-03T11:39:21.345067Z"
        },
        "trusted": true,
        "outputId": "c14cfe97-5273-458a-ebd3-e619a64aba50"
      },
      "source": [
        "## \n",
        "# features are of shape (1199 ,  w * h * number_filters ) these are all for the Last Layer of the CNN\n",
        "print(train_images.shape[0] )\n",
        "labels = np.reshape( train_labels , ( train_images.shape[0] , 1)) \n",
        "\n",
        "#labels = np.reshape( train_labels , (1199 , 1)) \n",
        "\n",
        "import pandas as pd\n",
        "#### Creating DataFrame of Features Only\n",
        "Train_data_Features_DataFrame = pd.DataFrame(features)\n",
        "\n",
        "#### Creating DataFrame of Features and Labels\n",
        "# Concatenate the features and labels \n",
        "final_train_data_with_features_and_labels = np.concatenate( [ features , labels ] , axis = 1 ) ## We get a shape of (1199 , 1 + w * h * number_filters in last layer)\n",
        "\n",
        "Train_data_DataFrame = pd.DataFrame(final_train_data_with_features_and_labels)\n",
        "\n",
        "Train_data_DataFrame.head()\n"
      ],
      "execution_count": null,
      "outputs": [
        {
          "name": "stdout",
          "text": "1199\n",
          "output_type": "stream"
        },
        {
          "execution_count": 123,
          "output_type": "execute_result",
          "data": {
            "text/plain": "   0      1      2      3      4      5      6      7      8      9      ...  \\\n0    0.0    0.0    0.0    0.0    0.0    0.0    0.0    0.0    0.0    0.0  ...   \n1    0.0    0.0    0.0    0.0    0.0    0.0    0.0    0.0    0.0    0.0  ...   \n2    0.0    0.0    0.0    0.0    0.0    0.0    0.0    0.0    0.0    0.0  ...   \n3    0.0    0.0    0.0    0.0    0.0    0.0    0.0    0.0    0.0    0.0  ...   \n4    0.0    0.0    0.0    0.0    0.0    0.0    0.0    0.0    0.0    0.0  ...   \n\n   32759  32760  32761  32762  32763  32764  32765  32766  32767  32768  \n0    0.0    0.0    0.0    0.0    0.0    0.0    0.0    0.0    0.0    1.0  \n1    0.0    0.0    0.0    0.0    0.0    0.0    0.0    0.0    0.0    1.0  \n2    0.0    0.0    0.0    0.0    0.0    0.0    0.0    0.0    0.0    1.0  \n3    0.0    0.0    0.0    0.0    0.0    0.0    0.0    0.0    0.0    0.0  \n4    0.0    0.0    0.0    0.0    0.0    0.0    0.0    0.0    0.0    1.0  \n\n[5 rows x 32769 columns]",
            "text/html": "<div>\n<style scoped>\n    .dataframe tbody tr th:only-of-type {\n        vertical-align: middle;\n    }\n\n    .dataframe tbody tr th {\n        vertical-align: top;\n    }\n\n    .dataframe thead th {\n        text-align: right;\n    }\n</style>\n<table border=\"1\" class=\"dataframe\">\n  <thead>\n    <tr style=\"text-align: right;\">\n      <th></th>\n      <th>0</th>\n      <th>1</th>\n      <th>2</th>\n      <th>3</th>\n      <th>4</th>\n      <th>5</th>\n      <th>6</th>\n      <th>7</th>\n      <th>8</th>\n      <th>9</th>\n      <th>...</th>\n      <th>32759</th>\n      <th>32760</th>\n      <th>32761</th>\n      <th>32762</th>\n      <th>32763</th>\n      <th>32764</th>\n      <th>32765</th>\n      <th>32766</th>\n      <th>32767</th>\n      <th>32768</th>\n    </tr>\n  </thead>\n  <tbody>\n    <tr>\n      <th>0</th>\n      <td>0.0</td>\n      <td>0.0</td>\n      <td>0.0</td>\n      <td>0.0</td>\n      <td>0.0</td>\n      <td>0.0</td>\n      <td>0.0</td>\n      <td>0.0</td>\n      <td>0.0</td>\n      <td>0.0</td>\n      <td>...</td>\n      <td>0.0</td>\n      <td>0.0</td>\n      <td>0.0</td>\n      <td>0.0</td>\n      <td>0.0</td>\n      <td>0.0</td>\n      <td>0.0</td>\n      <td>0.0</td>\n      <td>0.0</td>\n      <td>1.0</td>\n    </tr>\n    <tr>\n      <th>1</th>\n      <td>0.0</td>\n      <td>0.0</td>\n      <td>0.0</td>\n      <td>0.0</td>\n      <td>0.0</td>\n      <td>0.0</td>\n      <td>0.0</td>\n      <td>0.0</td>\n      <td>0.0</td>\n      <td>0.0</td>\n      <td>...</td>\n      <td>0.0</td>\n      <td>0.0</td>\n      <td>0.0</td>\n      <td>0.0</td>\n      <td>0.0</td>\n      <td>0.0</td>\n      <td>0.0</td>\n      <td>0.0</td>\n      <td>0.0</td>\n      <td>1.0</td>\n    </tr>\n    <tr>\n      <th>2</th>\n      <td>0.0</td>\n      <td>0.0</td>\n      <td>0.0</td>\n      <td>0.0</td>\n      <td>0.0</td>\n      <td>0.0</td>\n      <td>0.0</td>\n      <td>0.0</td>\n      <td>0.0</td>\n      <td>0.0</td>\n      <td>...</td>\n      <td>0.0</td>\n      <td>0.0</td>\n      <td>0.0</td>\n      <td>0.0</td>\n      <td>0.0</td>\n      <td>0.0</td>\n      <td>0.0</td>\n      <td>0.0</td>\n      <td>0.0</td>\n      <td>1.0</td>\n    </tr>\n    <tr>\n      <th>3</th>\n      <td>0.0</td>\n      <td>0.0</td>\n      <td>0.0</td>\n      <td>0.0</td>\n      <td>0.0</td>\n      <td>0.0</td>\n      <td>0.0</td>\n      <td>0.0</td>\n      <td>0.0</td>\n      <td>0.0</td>\n      <td>...</td>\n      <td>0.0</td>\n      <td>0.0</td>\n      <td>0.0</td>\n      <td>0.0</td>\n      <td>0.0</td>\n      <td>0.0</td>\n      <td>0.0</td>\n      <td>0.0</td>\n      <td>0.0</td>\n      <td>0.0</td>\n    </tr>\n    <tr>\n      <th>4</th>\n      <td>0.0</td>\n      <td>0.0</td>\n      <td>0.0</td>\n      <td>0.0</td>\n      <td>0.0</td>\n      <td>0.0</td>\n      <td>0.0</td>\n      <td>0.0</td>\n      <td>0.0</td>\n      <td>0.0</td>\n      <td>...</td>\n      <td>0.0</td>\n      <td>0.0</td>\n      <td>0.0</td>\n      <td>0.0</td>\n      <td>0.0</td>\n      <td>0.0</td>\n      <td>0.0</td>\n      <td>0.0</td>\n      <td>0.0</td>\n      <td>1.0</td>\n    </tr>\n  </tbody>\n</table>\n<p>5 rows × 32769 columns</p>\n</div>"
          },
          "metadata": {}
        }
      ]
    },
    {
      "cell_type": "markdown",
      "metadata": {
        "id": "SOtrr1k5IIxt"
      },
      "source": [
        "### Scaled Features using StandardScaler"
      ]
    },
    {
      "cell_type": "code",
      "metadata": {
        "id": "AH6EjrXm7vhO",
        "execution": {
          "iopub.status.busy": "2021-09-03T11:39:27.162203Z",
          "iopub.execute_input": "2021-09-03T11:39:27.162618Z",
          "iopub.status.idle": "2021-09-03T11:39:28.194014Z",
          "shell.execute_reply.started": "2021-09-03T11:39:27.162578Z",
          "shell.execute_reply": "2021-09-03T11:39:28.192973Z"
        },
        "trusted": true,
        "outputId": "ced1d473-93a9-4595-f63f-ff60c46aa8b2"
      },
      "source": [
        "#Standard Scaler will scale the distribution to a mean of zero and a standard deviation of one for each of the Feature\n",
        "\n",
        "from sklearn.preprocessing import StandardScaler\n",
        "scaler = StandardScaler()\n",
        "train_features = Train_data_Features_DataFrame.values\n",
        "\n",
        "\n",
        "# Fit on training set only.\n",
        "scaler.fit(train_features)\n",
        "\n",
        "# Apply transform to both the training set and the test set.\n",
        "Standarized_train_Features = scaler.transform(train_features)\n",
        "#test_img = scaler.transform(test_img)\n",
        "\n",
        "\n",
        "print( np.mean(Standarized_train_Features),np.std(Standarized_train_Features))\n",
        "\n",
        "feat_cols = ['feature'+str(i) for i in range(Standarized_train_Features.shape[1])]\n",
        "normalised_Features_DataFrame = pd.DataFrame(Standarized_train_Features ,columns=feat_cols)\n",
        "\n",
        "normalised_Features_DataFrame.tail()\n"
      ],
      "execution_count": null,
      "outputs": [
        {
          "name": "stdout",
          "text": "-1.7457443e-09 0.49993873\n",
          "output_type": "stream"
        },
        {
          "execution_count": 124,
          "output_type": "execute_result",
          "data": {
            "text/plain": "      feature0  feature1  feature2  feature3  feature4  feature5  feature6  \\\n1194 -0.028892       0.0       0.0       0.0       0.0 -0.039037       0.0   \n1195 -0.028892       0.0       0.0       0.0       0.0 -0.039037       0.0   \n1196 -0.028892       0.0       0.0       0.0       0.0 -0.039037       0.0   \n1197 -0.028892       0.0       0.0       0.0       0.0 -0.039037       0.0   \n1198 -0.028892       0.0       0.0       0.0       0.0 -0.039037       0.0   \n\n      feature7  feature8  feature9  ...  feature32758  feature32759  \\\n1194       0.0       0.0       0.0  ...     -0.301912           0.0   \n1195       0.0       0.0       0.0  ...     -0.301912           0.0   \n1196       0.0       0.0       0.0  ...     -0.301912           0.0   \n1197       0.0       0.0       0.0  ...      0.661687           0.0   \n1198       0.0       0.0       0.0  ...     -0.301912           0.0   \n\n      feature32760  feature32761  feature32762  feature32763  feature32764  \\\n1194     -0.028892           0.0           0.0           0.0           0.0   \n1195     -0.028892           0.0           0.0           0.0           0.0   \n1196     -0.028892           0.0           0.0           0.0           0.0   \n1197     -0.028892           0.0           0.0           0.0           0.0   \n1198     -0.028892           0.0           0.0           0.0           0.0   \n\n      feature32765  feature32766  feature32767  \n1194           0.0           0.0           0.0  \n1195           0.0           0.0           0.0  \n1196           0.0           0.0           0.0  \n1197           0.0           0.0           0.0  \n1198           0.0           0.0           0.0  \n\n[5 rows x 32768 columns]",
            "text/html": "<div>\n<style scoped>\n    .dataframe tbody tr th:only-of-type {\n        vertical-align: middle;\n    }\n\n    .dataframe tbody tr th {\n        vertical-align: top;\n    }\n\n    .dataframe thead th {\n        text-align: right;\n    }\n</style>\n<table border=\"1\" class=\"dataframe\">\n  <thead>\n    <tr style=\"text-align: right;\">\n      <th></th>\n      <th>feature0</th>\n      <th>feature1</th>\n      <th>feature2</th>\n      <th>feature3</th>\n      <th>feature4</th>\n      <th>feature5</th>\n      <th>feature6</th>\n      <th>feature7</th>\n      <th>feature8</th>\n      <th>feature9</th>\n      <th>...</th>\n      <th>feature32758</th>\n      <th>feature32759</th>\n      <th>feature32760</th>\n      <th>feature32761</th>\n      <th>feature32762</th>\n      <th>feature32763</th>\n      <th>feature32764</th>\n      <th>feature32765</th>\n      <th>feature32766</th>\n      <th>feature32767</th>\n    </tr>\n  </thead>\n  <tbody>\n    <tr>\n      <th>1194</th>\n      <td>-0.028892</td>\n      <td>0.0</td>\n      <td>0.0</td>\n      <td>0.0</td>\n      <td>0.0</td>\n      <td>-0.039037</td>\n      <td>0.0</td>\n      <td>0.0</td>\n      <td>0.0</td>\n      <td>0.0</td>\n      <td>...</td>\n      <td>-0.301912</td>\n      <td>0.0</td>\n      <td>-0.028892</td>\n      <td>0.0</td>\n      <td>0.0</td>\n      <td>0.0</td>\n      <td>0.0</td>\n      <td>0.0</td>\n      <td>0.0</td>\n      <td>0.0</td>\n    </tr>\n    <tr>\n      <th>1195</th>\n      <td>-0.028892</td>\n      <td>0.0</td>\n      <td>0.0</td>\n      <td>0.0</td>\n      <td>0.0</td>\n      <td>-0.039037</td>\n      <td>0.0</td>\n      <td>0.0</td>\n      <td>0.0</td>\n      <td>0.0</td>\n      <td>...</td>\n      <td>-0.301912</td>\n      <td>0.0</td>\n      <td>-0.028892</td>\n      <td>0.0</td>\n      <td>0.0</td>\n      <td>0.0</td>\n      <td>0.0</td>\n      <td>0.0</td>\n      <td>0.0</td>\n      <td>0.0</td>\n    </tr>\n    <tr>\n      <th>1196</th>\n      <td>-0.028892</td>\n      <td>0.0</td>\n      <td>0.0</td>\n      <td>0.0</td>\n      <td>0.0</td>\n      <td>-0.039037</td>\n      <td>0.0</td>\n      <td>0.0</td>\n      <td>0.0</td>\n      <td>0.0</td>\n      <td>...</td>\n      <td>-0.301912</td>\n      <td>0.0</td>\n      <td>-0.028892</td>\n      <td>0.0</td>\n      <td>0.0</td>\n      <td>0.0</td>\n      <td>0.0</td>\n      <td>0.0</td>\n      <td>0.0</td>\n      <td>0.0</td>\n    </tr>\n    <tr>\n      <th>1197</th>\n      <td>-0.028892</td>\n      <td>0.0</td>\n      <td>0.0</td>\n      <td>0.0</td>\n      <td>0.0</td>\n      <td>-0.039037</td>\n      <td>0.0</td>\n      <td>0.0</td>\n      <td>0.0</td>\n      <td>0.0</td>\n      <td>...</td>\n      <td>0.661687</td>\n      <td>0.0</td>\n      <td>-0.028892</td>\n      <td>0.0</td>\n      <td>0.0</td>\n      <td>0.0</td>\n      <td>0.0</td>\n      <td>0.0</td>\n      <td>0.0</td>\n      <td>0.0</td>\n    </tr>\n    <tr>\n      <th>1198</th>\n      <td>-0.028892</td>\n      <td>0.0</td>\n      <td>0.0</td>\n      <td>0.0</td>\n      <td>0.0</td>\n      <td>-0.039037</td>\n      <td>0.0</td>\n      <td>0.0</td>\n      <td>0.0</td>\n      <td>0.0</td>\n      <td>...</td>\n      <td>-0.301912</td>\n      <td>0.0</td>\n      <td>-0.028892</td>\n      <td>0.0</td>\n      <td>0.0</td>\n      <td>0.0</td>\n      <td>0.0</td>\n      <td>0.0</td>\n      <td>0.0</td>\n      <td>0.0</td>\n    </tr>\n  </tbody>\n</table>\n<p>5 rows × 32768 columns</p>\n</div>"
          },
          "metadata": {}
        }
      ]
    },
    {
      "cell_type": "markdown",
      "metadata": {
        "id": "j2jsn9rRIIxu"
      },
      "source": [
        "## Feature Reduction Using PCA"
      ]
    },
    {
      "cell_type": "code",
      "metadata": {
        "id": "f3xIgqVP9o8A",
        "execution": {
          "iopub.status.busy": "2021-09-03T12:40:57.477708Z",
          "iopub.execute_input": "2021-09-03T12:40:57.478113Z",
          "iopub.status.idle": "2021-09-03T12:40:59.633650Z",
          "shell.execute_reply.started": "2021-09-03T12:40:57.478079Z",
          "shell.execute_reply": "2021-09-03T12:40:59.632474Z"
        },
        "trusted": true,
        "outputId": "01716f72-ee81-4f93-e387-1728d0eddec9"
      },
      "source": [
        "## \n",
        "Total_Num_of_Features_Extracted = Standarized_train_Features.shape[1]\n",
        "print(Total_Num_of_Features_Extracted)\n",
        "from sklearn.decomposition import PCA\n",
        "pca = PCA(n_components= 20)\n",
        "#pca = PCA( 0.9 )\n",
        "\n",
        "# Fit the PCA on Train_Data_Features \n",
        "pca.fit(Standarized_train_Features)\n",
        "Train_Features_Reduced_PCA = pca.transform(Standarized_train_Features)\n"
      ],
      "execution_count": null,
      "outputs": [
        {
          "name": "stdout",
          "text": "32768\n",
          "output_type": "stream"
        }
      ]
    },
    {
      "cell_type": "code",
      "metadata": {
        "id": "flWfIQRf-lne",
        "execution": {
          "iopub.status.busy": "2021-09-03T12:42:51.541593Z",
          "iopub.execute_input": "2021-09-03T12:42:51.542008Z",
          "iopub.status.idle": "2021-09-03T12:42:51.548381Z",
          "shell.execute_reply.started": "2021-09-03T12:42:51.541974Z",
          "shell.execute_reply": "2021-09-03T12:42:51.547280Z"
        },
        "trusted": true,
        "outputId": "c6b7fa1c-71a6-414f-d85a-022343e950e1"
      },
      "source": [
        "print('Explained variation per principal component: {}'.format(pca.explained_variance_ratio_))\n",
        "#print( \"90% of variance is explained by {} number of Principle Components \".format(pca.n_components_))\n",
        "#print( pca.n_components_ )\n"
      ],
      "execution_count": null,
      "outputs": [
        {
          "name": "stdout",
          "text": "Explained variation per principal component: [0.20530184 0.07323074 0.05535331 0.05030341 0.0467142  0.04407069\n 0.03878431 0.03165866 0.03055467 0.02305807 0.02241343 0.02086887\n 0.01922306 0.01873239 0.01595761 0.0154943  0.01346247 0.01223568\n 0.01118304 0.0102097 ]\n",
          "output_type": "stream"
        }
      ]
    },
    {
      "cell_type": "markdown",
      "metadata": {
        "id": "2u1VZZkHIIxw"
      },
      "source": [
        "# Test Data Features from VGG Net Model"
      ]
    },
    {
      "cell_type": "code",
      "metadata": {
        "id": "4xR2oc3CAASu",
        "execution": {
          "iopub.status.busy": "2021-09-03T12:42:56.975981Z",
          "iopub.execute_input": "2021-09-03T12:42:56.976316Z",
          "iopub.status.idle": "2021-09-03T12:42:57.493040Z",
          "shell.execute_reply.started": "2021-09-03T12:42:56.976285Z",
          "shell.execute_reply": "2021-09-03T12:42:57.492130Z"
        },
        "trusted": true
      },
      "source": [
        "## Test Data Features ( X Data)\n",
        "test_features = VGG_Fine_tunned.predict(test_images)\n"
      ],
      "execution_count": null,
      "outputs": []
    },
    {
      "cell_type": "markdown",
      "metadata": {
        "id": "fD6VLjE0IIxx"
      },
      "source": [
        "### Scaling Test Features as we will apply PCA Feature Reduction "
      ]
    },
    {
      "cell_type": "code",
      "metadata": {
        "id": "bfre34AcR4P5",
        "execution": {
          "iopub.status.busy": "2021-09-03T12:43:01.298369Z",
          "iopub.execute_input": "2021-09-03T12:43:01.298760Z",
          "iopub.status.idle": "2021-09-03T12:43:01.340705Z",
          "shell.execute_reply.started": "2021-09-03T12:43:01.298725Z",
          "shell.execute_reply": "2021-09-03T12:43:01.339584Z"
        },
        "trusted": true
      },
      "source": [
        "test_features_reshaped = test_features.reshape(test_features.shape[0], -1)\n",
        "\n",
        "#test_feature_values = test_features.values\n",
        "\n",
        "# Standard Scalar\n",
        "Standarized_test_features = scaler.transform(test_features_reshaped)\n",
        "\n",
        "\n",
        "\n",
        "## PCA on test data \n",
        "Test_Features_Reduced_PCA = pca.transform(Standarized_test_features)\n"
      ],
      "execution_count": null,
      "outputs": []
    },
    {
      "cell_type": "markdown",
      "metadata": {
        "id": "-ZdDYlHRIIxy"
      },
      "source": [
        "## Extracting Test and Validation Features from VggNet"
      ]
    },
    {
      "cell_type": "code",
      "metadata": {
        "id": "gc_Bg7ZbIIxy",
        "execution": {
          "iopub.status.busy": "2021-09-03T12:43:07.632104Z",
          "iopub.execute_input": "2021-09-03T12:43:07.632437Z",
          "iopub.status.idle": "2021-09-03T12:43:08.642762Z",
          "shell.execute_reply.started": "2021-09-03T12:43:07.632406Z",
          "shell.execute_reply": "2021-09-03T12:43:08.641806Z"
        },
        "trusted": true
      },
      "source": [
        "# VGG_model\n",
        "#Send test data through same feature extractor process\n",
        "X_test_feature = VGG_Fine_tunned.predict(test_images)\n",
        "X_test_features = X_test_feature.reshape(X_test_feature.shape[0], -1)\n",
        "\n",
        "\n",
        "#Send test data through same feature extractor process\n",
        "X_val_feature = VGG_Fine_tunned.predict(val_images)\n",
        "X_val_features = X_val_feature.reshape(X_val_feature.shape[0], -1)\n"
      ],
      "execution_count": null,
      "outputs": []
    },
    {
      "cell_type": "markdown",
      "metadata": {
        "id": "y5ovuKPBIIxz"
      },
      "source": [
        "## PCA Feature Reduction on Validation Features"
      ]
    },
    {
      "cell_type": "code",
      "metadata": {
        "id": "VgChHkBRIIxz",
        "execution": {
          "iopub.status.busy": "2021-09-03T12:43:12.417808Z",
          "iopub.execute_input": "2021-09-03T12:43:12.418184Z",
          "iopub.status.idle": "2021-09-03T12:43:12.458177Z",
          "shell.execute_reply.started": "2021-09-03T12:43:12.418153Z",
          "shell.execute_reply": "2021-09-03T12:43:12.457072Z"
        },
        "trusted": true
      },
      "source": [
        "\n",
        "\n",
        "# Standard Scalar\n",
        "Standarized_val_features = scaler.transform(X_val_features)\n",
        "\n",
        "## PCA on test data \n",
        "Val_Features_Reduced_PCA = pca.transform(Standarized_val_features)\n"
      ],
      "execution_count": null,
      "outputs": []
    },
    {
      "cell_type": "markdown",
      "metadata": {
        "id": "cfbKzUUaaaVD"
      },
      "source": [
        "# XGBoost on Reduced PCA Training Features"
      ]
    },
    {
      "cell_type": "code",
      "metadata": {
        "id": "Eg2usMkONRg7",
        "execution": {
          "iopub.status.busy": "2021-09-03T12:43:16.991925Z",
          "iopub.execute_input": "2021-09-03T12:43:16.992259Z",
          "iopub.status.idle": "2021-09-03T12:43:17.579199Z",
          "shell.execute_reply.started": "2021-09-03T12:43:16.992227Z",
          "shell.execute_reply": "2021-09-03T12:43:17.578402Z"
        },
        "trusted": true,
        "outputId": "fd76ef80-1e89-4547-bf82-a72ca5348c95"
      },
      "source": [
        "### XGBoost on Reduced Features after Applying PCA\n",
        "import xgboost as xgb\n",
        "model = xgb.XGBClassifier()\n",
        "model.fit(Train_Features_Reduced_PCA, train_labels) #For sklearn no one hot encoding\n",
        "\n",
        "\n",
        "#Train the model using the training sets\n",
        "model.fit(Train_Features_Reduced_PCA, train_labels)\n",
        "\n",
        "#Predict the response for test and Validation dataset\n",
        "y_pred = model.predict(Test_Features_Reduced_PCA)\n",
        "val_pred =  model.predict(Val_Features_Reduced_PCA)\n",
        "\n",
        "#Print overall accuracy\n",
        "from sklearn import metrics\n",
        "\n",
        "print (\"Test Accuracy = \", metrics.accuracy_score(test_labels, y_pred))\n",
        "print (\"Val Accuracy = \", metrics.accuracy_score(val_labels, val_pred))\n",
        "\n",
        "\n",
        "print (\"Test Data:\\n\", classification_report(test_labels, y_pred))\n",
        "print( \"Validation Data:\\n\", classification_report(val_labels, val_pred)) \n",
        "#Confusion Matrix - verify accuracy of each class\n",
        "from sklearn.metrics import confusion_matrix\n",
        "\n",
        "cm = confusion_matrix(test_labels, y_pred)\n",
        "#print(cm)\n",
        "sns.heatmap(cm, annot=True)\n"
      ],
      "execution_count": null,
      "outputs": [
        {
          "name": "stdout",
          "text": "[12:43:17] WARNING: ../src/learner.cc:1095: Starting in XGBoost 1.3.0, the default evaluation metric used with the objective 'binary:logistic' was changed from 'error' to 'logloss'. Explicitly set eval_metric if you'd like to restore the old behavior.\n[12:43:17] WARNING: ../src/learner.cc:1095: Starting in XGBoost 1.3.0, the default evaluation metric used with the objective 'binary:logistic' was changed from 'error' to 'logloss'. Explicitly set eval_metric if you'd like to restore the old behavior.\nTest Accuracy =  0.98\nVal Accuracy =  0.9666666666666667\nTest Data:\n               precision    recall  f1-score   support\n\n           0       0.98      0.97      0.98        65\n           1       0.98      0.99      0.98        85\n\n    accuracy                           0.98       150\n   macro avg       0.98      0.98      0.98       150\nweighted avg       0.98      0.98      0.98       150\n\nValidation Data:\n               precision    recall  f1-score   support\n\n           0       0.94      0.96      0.95        51\n           1       0.98      0.97      0.97        99\n\n    accuracy                           0.97       150\n   macro avg       0.96      0.97      0.96       150\nweighted avg       0.97      0.97      0.97       150\n\n",
          "output_type": "stream"
        },
        {
          "execution_count": 218,
          "output_type": "execute_result",
          "data": {
            "text/plain": "<AxesSubplot:>"
          },
          "metadata": {}
        },
        {
          "output_type": "display_data",
          "data": {
            "text/plain": "<Figure size 432x288 with 2 Axes>",
            "image/png": "[encoded data removed]"
          },
          "metadata": {
            "needs_background": "light"
          }
        }
      ]
    },
    {
      "cell_type": "markdown",
      "metadata": {
        "id": "jJskoPRwaTWa"
      },
      "source": [
        "# SVM on REDUCED PCA Training Features"
      ]
    },
    {
      "cell_type": "code",
      "metadata": {
        "id": "owH1hMVuYbG7",
        "execution": {
          "iopub.status.busy": "2021-09-03T12:43:34.613529Z",
          "iopub.execute_input": "2021-09-03T12:43:34.613960Z",
          "iopub.status.idle": "2021-09-03T12:43:34.922162Z",
          "shell.execute_reply.started": "2021-09-03T12:43:34.613917Z",
          "shell.execute_reply": "2021-09-03T12:43:34.921348Z"
        },
        "trusted": true,
        "outputId": "4b3bec5d-03db-46e3-f24c-e55f679f50d6"
      },
      "source": [
        "#Import svm model\n",
        "from sklearn import svm\n",
        "\n",
        "#Create a svm Classifier\n",
        "clf = svm.SVC(kernel='linear') # Linear Kernel\n",
        "\n",
        "#Train the model using the training sets\n",
        "clf.fit(Train_Features_Reduced_PCA, train_labels)\n",
        "\n",
        "#Predict the response for test and Validation dataset\n",
        "y_pred = clf.predict(Test_Features_Reduced_PCA)\n",
        "val_pred =  clf.predict(Val_Features_Reduced_PCA)\n",
        "\n",
        "#Print overall accuracy\n",
        "from sklearn import metrics\n",
        "\n",
        "print (\"Test Accuracy = \", metrics.accuracy_score(test_labels, y_pred))\n",
        "print (\"Val Accuracy = \", metrics.accuracy_score(val_labels, val_pred))\n",
        "\n",
        "\n",
        "print (\"Test Data:\\n\", classification_report(test_labels, y_pred))\n",
        "print( \"Validation Data:\\n\", classification_report(val_labels, val_pred)) \n",
        "#Confusion Matrix - verify accuracy of each class\n",
        "from sklearn.metrics import confusion_matrix\n",
        "\n",
        "cm = confusion_matrix(test_labels, y_pred)\n",
        "#print(cm)\n",
        "sns.heatmap(cm, annot=True)"
      ],
      "execution_count": null,
      "outputs": [
        {
          "name": "stdout",
          "text": "Test Accuracy =  0.9666666666666667\nVal Accuracy =  0.98\nTest Data:\n               precision    recall  f1-score   support\n\n           0       0.97      0.95      0.96        65\n           1       0.97      0.98      0.97        85\n\n    accuracy                           0.97       150\n   macro avg       0.97      0.97      0.97       150\nweighted avg       0.97      0.97      0.97       150\n\nValidation Data:\n               precision    recall  f1-score   support\n\n           0       1.00      0.94      0.97        51\n           1       0.97      1.00      0.99        99\n\n    accuracy                           0.98       150\n   macro avg       0.99      0.97      0.98       150\nweighted avg       0.98      0.98      0.98       150\n\n",
          "output_type": "stream"
        },
        {
          "execution_count": 219,
          "output_type": "execute_result",
          "data": {
            "text/plain": "<AxesSubplot:>"
          },
          "metadata": {}
        },
        {
          "output_type": "display_data",
          "data": {
            "text/plain": "<Figure size 432x288 with 2 Axes>",
            "image/png": "[encoded data removed]"
          },
          "metadata": {
            "needs_background": "light"
          }
        }
      ]
    },
    {
      "cell_type": "markdown",
      "metadata": {
        "id": "5Ekq4hi08aLM"
      },
      "source": [
        "# SVM ( kernel as \"poly\")"
      ]
    },
    {
      "cell_type": "code",
      "metadata": {
        "execution": {
          "iopub.status.busy": "2021-09-03T12:43:42.207602Z",
          "iopub.execute_input": "2021-09-03T12:43:42.207966Z",
          "iopub.status.idle": "2021-09-03T12:43:42.476458Z",
          "shell.execute_reply.started": "2021-09-03T12:43:42.207935Z",
          "shell.execute_reply": "2021-09-03T12:43:42.475644Z"
        },
        "trusted": true,
        "id": "-1rksxF18aLN",
        "outputId": "c0833666-edd6-4532-a833-24dee35f1460"
      },
      "source": [
        "#Import svm model\n",
        "from sklearn import svm\n",
        "\n",
        "#Create a svm Classifier\n",
        "clf = svm.SVC(kernel='poly') # Linear Kernel\n",
        "\n",
        "#Train the model using the training sets\n",
        "clf.fit(Train_Features_Reduced_PCA, train_labels)\n",
        "\n",
        "#Predict the response for test and Validation dataset\n",
        "y_pred = clf.predict(Test_Features_Reduced_PCA)\n",
        "val_pred =  clf.predict(Val_Features_Reduced_PCA)\n",
        "\n",
        "#Print overall accuracy\n",
        "from sklearn import metrics\n",
        "\n",
        "print (\"Test Accuracy = \", metrics.accuracy_score(test_labels, y_pred))\n",
        "print (\"Val Accuracy = \", metrics.accuracy_score(val_labels, val_pred))\n",
        "\n",
        "\n",
        "print (\"Test Data:\\n\", classification_report(test_labels, y_pred))\n",
        "print( \"Validation Data:\\n\", classification_report(val_labels, val_pred)) \n",
        "#Confusion Matrix - verify accuracy of each class\n",
        "from sklearn.metrics import confusion_matrix\n",
        "\n",
        "cm = confusion_matrix(test_labels, y_pred)\n",
        "#print(cm)\n",
        "sns.heatmap(cm, annot=True)"
      ],
      "execution_count": null,
      "outputs": [
        {
          "name": "stdout",
          "text": "Test Accuracy =  0.9\nVal Accuracy =  0.94\nTest Data:\n               precision    recall  f1-score   support\n\n           0       1.00      0.77      0.87        65\n           1       0.85      1.00      0.92        85\n\n    accuracy                           0.90       150\n   macro avg       0.93      0.88      0.89       150\nweighted avg       0.92      0.90      0.90       150\n\nValidation Data:\n               precision    recall  f1-score   support\n\n           0       1.00      0.82      0.90        51\n           1       0.92      1.00      0.96        99\n\n    accuracy                           0.94       150\n   macro avg       0.96      0.91      0.93       150\nweighted avg       0.94      0.94      0.94       150\n\n",
          "output_type": "stream"
        },
        {
          "execution_count": 220,
          "output_type": "execute_result",
          "data": {
            "text/plain": "<AxesSubplot:>"
          },
          "metadata": {}
        },
        {
          "output_type": "display_data",
          "data": {
            "text/plain": "<Figure size 432x288 with 2 Axes>",
            "image/png": "[encoded data removed]"
          },
          "metadata": {
            "needs_background": "light"
          }
        }
      ]
    },
    {
      "cell_type": "markdown",
      "metadata": {
        "id": "LnGoCG7CIIx1"
      },
      "source": [
        "# SVM model(rbf) On REDUCED PCA Training Features"
      ]
    },
    {
      "cell_type": "code",
      "metadata": {
        "id": "8hTMd7DAZA7v",
        "execution": {
          "iopub.status.busy": "2021-09-03T12:43:49.574034Z",
          "iopub.execute_input": "2021-09-03T12:43:49.574362Z",
          "iopub.status.idle": "2021-09-03T12:43:49.852802Z",
          "shell.execute_reply.started": "2021-09-03T12:43:49.574333Z",
          "shell.execute_reply": "2021-09-03T12:43:49.851763Z"
        },
        "trusted": true,
        "outputId": "4f004f47-545e-4e3a-d3c5-00cfeec7eb8a"
      },
      "source": [
        "#Import svm model On REDUCED PCA Training Features\n",
        "from sklearn import svm\n",
        "\n",
        "#Create a svm Classifier\n",
        "clf = svm.SVC(kernel='rbf') # Linear Kernel\n",
        "\n",
        "#Train the model using the training sets\n",
        "clf.fit(Train_Features_Reduced_PCA, train_labels)\n",
        "\n",
        "#Predict the response for test and Validation dataset\n",
        "y_pred = clf.predict(Test_Features_Reduced_PCA)\n",
        "val_pred =  clf.predict(Val_Features_Reduced_PCA)\n",
        "#Print overall accuracy\n",
        "from sklearn import metrics\n",
        "\n",
        "print (\"Test Accuracy = \", metrics.accuracy_score(test_labels, y_pred))\n",
        "print (\"Val Accuracy = \", metrics.accuracy_score(val_labels, val_pred))\n",
        "\n",
        "\n",
        "print (\"Test Data:\\n\", classification_report(test_labels, y_pred))\n",
        "print( \"Validation Data:\\n\", classification_report(val_labels, val_pred)) \n",
        "#Confusion Matrix - verify accuracy of each class\n",
        "from sklearn.metrics import confusion_matrix\n",
        "\n",
        "cm = confusion_matrix(test_labels, y_pred)\n",
        "#print(cm)\n",
        "sns.heatmap(cm, annot=True)"
      ],
      "execution_count": null,
      "outputs": [
        {
          "name": "stdout",
          "text": "Test Accuracy =  0.98\nVal Accuracy =  0.98\nTest Data:\n               precision    recall  f1-score   support\n\n           0       1.00      0.95      0.98        65\n           1       0.97      1.00      0.98        85\n\n    accuracy                           0.98       150\n   macro avg       0.98      0.98      0.98       150\nweighted avg       0.98      0.98      0.98       150\n\nValidation Data:\n               precision    recall  f1-score   support\n\n           0       1.00      0.94      0.97        51\n           1       0.97      1.00      0.99        99\n\n    accuracy                           0.98       150\n   macro avg       0.99      0.97      0.98       150\nweighted avg       0.98      0.98      0.98       150\n\n",
          "output_type": "stream"
        },
        {
          "execution_count": 221,
          "output_type": "execute_result",
          "data": {
            "text/plain": "<AxesSubplot:>"
          },
          "metadata": {}
        },
        {
          "output_type": "display_data",
          "data": {
            "text/plain": "<Figure size 432x288 with 2 Axes>",
            "image/png": "[encoded data removed]"
          },
          "metadata": {
            "needs_background": "light"
          }
        }
      ]
    },
    {
      "cell_type": "markdown",
      "metadata": {
        "id": "ofAYlD4VaGm0"
      },
      "source": [
        "# SVM on ALL Training Features"
      ]
    },
    {
      "cell_type": "code",
      "metadata": {
        "id": "a-XXGmYcZbch",
        "execution": {
          "iopub.status.busy": "2021-09-03T11:44:21.205535Z",
          "iopub.execute_input": "2021-09-03T11:44:21.205887Z",
          "iopub.status.idle": "2021-09-03T11:44:35.171228Z",
          "shell.execute_reply.started": "2021-09-03T11:44:21.205855Z",
          "shell.execute_reply": "2021-09-03T11:44:35.170197Z"
        },
        "trusted": true,
        "outputId": "0d534df2-c259-4a93-eeda-2b75028e774b"
      },
      "source": [
        "\n",
        "\n",
        "#Import svm model\n",
        "from sklearn import svm\n",
        "\n",
        "#Create a svm Classifier\n",
        "clf = svm.SVC(kernel='rbf') # Linear Kernel\n",
        "\n",
        "#Train the model using the training sets\n",
        "clf.fit(X_for_training, train_labels)\n",
        "\n",
        "#Predict the response for test and validation dataset\n",
        "y_pred = clf.predict(X_test_features)\n",
        "val_pred =  clf.predict(X_val_features)\n",
        "\n",
        "\n",
        "#Print overall accuracy\n",
        "from sklearn import metrics\n",
        "\n",
        "print (\"Test Accuracy = \", metrics.accuracy_score(test_labels, y_pred))\n",
        "print (\"Val Accuracy = \", metrics.accuracy_score(val_labels, val_pred))\n",
        "\n",
        "\n",
        "print (\"Test Data:\\n\", classification_report(test_labels, y_pred))\n",
        "print( \"Validation Data:\\n\", classification_report(val_labels, val_pred)) \n",
        "#Confusion Matrix - verify accuracy of each class\n",
        "from sklearn.metrics import confusion_matrix\n",
        "\n",
        "cm = confusion_matrix(test_labels, y_pred)\n",
        "#print(cm)\n",
        "sns.heatmap(cm, annot=True)\n"
      ],
      "execution_count": null,
      "outputs": [
        {
          "name": "stdout",
          "text": "Test Accuracy =  0.98\nVal Accuracy =  0.98\nTest Data:\n               precision    recall  f1-score   support\n\n           0       1.00      0.95      0.98        65\n           1       0.97      1.00      0.98        85\n\n    accuracy                           0.98       150\n   macro avg       0.98      0.98      0.98       150\nweighted avg       0.98      0.98      0.98       150\n\nValidation Data:\n               precision    recall  f1-score   support\n\n           0       1.00      0.94      0.97        51\n           1       0.97      1.00      0.99        99\n\n    accuracy                           0.98       150\n   macro avg       0.99      0.97      0.98       150\nweighted avg       0.98      0.98      0.98       150\n\n",
          "output_type": "stream"
        },
        {
          "execution_count": 139,
          "output_type": "execute_result",
          "data": {
            "text/plain": "<AxesSubplot:>"
          },
          "metadata": {}
        },
        {
          "output_type": "display_data",
          "data": {
            "text/plain": "<Figure size 432x288 with 2 Axes>",
            "image/png": "[encoded data removed]"
          },
          "metadata": {
            "needs_background": "light"
          }
        }
      ]
    },
    {
      "cell_type": "markdown",
      "metadata": {
        "id": "PkKi1La9IIx4"
      },
      "source": [
        "# Random Forest on Reduced Features"
      ]
    },
    {
      "cell_type": "code",
      "metadata": {
        "id": "cHEvFhhjUELF",
        "execution": {
          "iopub.status.busy": "2021-09-03T12:44:00.980989Z",
          "iopub.execute_input": "2021-09-03T12:44:00.981338Z",
          "iopub.status.idle": "2021-09-03T12:44:01.394540Z",
          "shell.execute_reply.started": "2021-09-03T12:44:00.981293Z",
          "shell.execute_reply": "2021-09-03T12:44:01.393599Z"
        },
        "trusted": true,
        "outputId": "aa0a910f-4fbf-4bb7-b611-2702c766b16c"
      },
      "source": [
        "from sklearn.ensemble import RandomForestClassifier\n",
        "\n",
        "#Now predict using the trained RF model.\n",
        "RF_model = RandomForestClassifier(n_estimators = 50, random_state = 42)\n",
        "RF_model.fit(Train_Features_Reduced_PCA, train_labels) #For sklearn no one hot encoding\n",
        "\n",
        "#Predict the response for test and Validation dataset\n",
        "y_pred = RF_model.predict(Test_Features_Reduced_PCA)\n",
        "val_pred =  RF_model.predict(Val_Features_Reduced_PCA)\n",
        "\n",
        "#Print overall accuracy\n",
        "from sklearn import metrics\n",
        "\n",
        "print (\"Test Accuracy = \", metrics.accuracy_score(test_labels, y_pred))\n",
        "print (\"Val Accuracy = \", metrics.accuracy_score(val_labels, val_pred))\n",
        "\n",
        "\n",
        "print (\"Test Data:\\n\", classification_report(test_labels, y_pred))\n",
        "print( \"Validation Data:\\n\", classification_report(val_labels, val_pred)) \n",
        "#Confusion Matrix - verify accuracy of each class\n",
        "from sklearn.metrics import confusion_matrix\n",
        "\n",
        "cm = confusion_matrix(test_labels, y_pred)\n",
        "#print(cm)\n",
        "sns.heatmap(cm, annot=True)\n"
      ],
      "execution_count": null,
      "outputs": [
        {
          "name": "stdout",
          "text": "Test Accuracy =  0.98\nVal Accuracy =  0.9733333333333334\nTest Data:\n               precision    recall  f1-score   support\n\n           0       0.98      0.97      0.98        65\n           1       0.98      0.99      0.98        85\n\n    accuracy                           0.98       150\n   macro avg       0.98      0.98      0.98       150\nweighted avg       0.98      0.98      0.98       150\n\nValidation Data:\n               precision    recall  f1-score   support\n\n           0       0.96      0.96      0.96        51\n           1       0.98      0.98      0.98        99\n\n    accuracy                           0.97       150\n   macro avg       0.97      0.97      0.97       150\nweighted avg       0.97      0.97      0.97       150\n\n",
          "output_type": "stream"
        },
        {
          "execution_count": 222,
          "output_type": "execute_result",
          "data": {
            "text/plain": "<AxesSubplot:>"
          },
          "metadata": {}
        },
        {
          "output_type": "display_data",
          "data": {
            "text/plain": "<Figure size 432x288 with 2 Axes>",
            "image/png": "[encoded data removed]"
          },
          "metadata": {
            "needs_background": "light"
          }
        }
      ]
    },
    {
      "cell_type": "markdown",
      "metadata": {
        "id": "r5ki5K9FnoPb"
      },
      "source": [
        "# XGBoost on All training Features extracted\n"
      ]
    },
    {
      "cell_type": "code",
      "metadata": {
        "id": "8fhf5OjPUZUv",
        "execution": {
          "iopub.status.busy": "2021-09-02T16:22:32.203719Z",
          "iopub.status.idle": "2021-09-02T16:22:32.204291Z"
        },
        "trusted": true
      },
      "source": [
        ""
      ],
      "execution_count": null,
      "outputs": []
    },
    {
      "cell_type": "markdown",
      "metadata": {
        "id": "xwEqpH4JIIx6"
      },
      "source": [
        "## XGBOOST Predicting on Test Data (For ALL Features Extracted)"
      ]
    },
    {
      "cell_type": "code",
      "metadata": {
        "id": "x9pXmxs0lpvx",
        "execution": {
          "iopub.status.busy": "2021-09-03T11:47:59.728908Z",
          "iopub.execute_input": "2021-09-03T11:47:59.729251Z",
          "iopub.status.idle": "2021-09-03T11:49:05.316309Z",
          "shell.execute_reply.started": "2021-09-03T11:47:59.729218Z",
          "shell.execute_reply": "2021-09-03T11:49:05.315435Z"
        },
        "trusted": true,
        "outputId": "a496d63a-a6c1-40ec-dced-ca5595367700"
      },
      "source": [
        "\n",
        "import xgboost as xgb\n",
        "model = xgb.XGBClassifier()\n",
        "model.fit( Standarized_train_Features, train_labels) #For sklearn no one hot encoding\n",
        "\n",
        "#Predict the response for test and Validation dataset\n",
        "y_pred = model.predict(Standarized_test_features)\n",
        "val_pred =  model.predict(Standarized_val_features)\n",
        "\n",
        "#Print overall accuracy\n",
        "from sklearn import metrics\n",
        "\n",
        "print (\"Test Accuracy = \", metrics.accuracy_score(test_labels, y_pred))\n",
        "print (\"Val Accuracy = \", metrics.accuracy_score(val_labels, val_pred))\n",
        "\n",
        "print (\"Test Data:\\n\", classification_report(test_labels, y_pred))\n",
        "print( \"Validation Data:\\n\", classification_report(val_labels, val_pred)) \n",
        "#Confusion Matrix - verify accuracy of each class\n",
        "from sklearn.metrics import confusion_matrix\n",
        "\n",
        "cm = confusion_matrix(test_labels, y_pred)\n",
        "#print(cm)\n",
        "sns.heatmap(cm, annot=True)\n"
      ],
      "execution_count": null,
      "outputs": [
        {
          "name": "stdout",
          "text": "[11:48:02] WARNING: ../src/learner.cc:1095: Starting in XGBoost 1.3.0, the default evaluation metric used with the objective 'binary:logistic' was changed from 'error' to 'logloss'. Explicitly set eval_metric if you'd like to restore the old behavior.\nTest Accuracy =  0.9733333333333334\nVal Accuracy =  0.9866666666666667\nTest Data:\n               precision    recall  f1-score   support\n\n           0       0.98      0.95      0.97        65\n           1       0.97      0.99      0.98        85\n\n    accuracy                           0.97       150\n   macro avg       0.97      0.97      0.97       150\nweighted avg       0.97      0.97      0.97       150\n\nValidation Data:\n               precision    recall  f1-score   support\n\n           0       0.98      0.98      0.98        51\n           1       0.99      0.99      0.99        99\n\n    accuracy                           0.99       150\n   macro avg       0.99      0.99      0.99       150\nweighted avg       0.99      0.99      0.99       150\n\n",
          "output_type": "stream"
        },
        {
          "execution_count": 142,
          "output_type": "execute_result",
          "data": {
            "text/plain": "<AxesSubplot:>"
          },
          "metadata": {}
        },
        {
          "output_type": "display_data",
          "data": {
            "text/plain": "<Figure size 432x288 with 2 Axes>",
            "image/png": "[encoded data removed]"
          },
          "metadata": {
            "needs_background": "light"
          }
        }
      ]
    },
    {
      "cell_type": "markdown",
      "metadata": {
        "id": "OM5BLIowmsqx"
      },
      "source": [
        "## Random Forest Predicting on Test Data (For ALL Features Extracted)"
      ]
    },
    {
      "cell_type": "code",
      "metadata": {
        "id": "YoOlztuRmcH2",
        "execution": {
          "iopub.status.busy": "2021-09-03T11:49:05.317759Z",
          "iopub.execute_input": "2021-09-03T11:49:05.318056Z",
          "iopub.status.idle": "2021-09-03T11:49:05.861022Z",
          "shell.execute_reply.started": "2021-09-03T11:49:05.318026Z",
          "shell.execute_reply": "2021-09-03T11:49:05.859959Z"
        },
        "trusted": true,
        "outputId": "8fbd6c9f-9b82-4afa-a23e-fb5f84d15ca7"
      },
      "source": [
        "#RANDOM FOREST\n",
        "from sklearn.ensemble import RandomForestClassifier\n",
        "RF_model = RandomForestClassifier(n_estimators = 50, random_state = 42)\n",
        "RF_model.fit(X_for_training, train_labels) #For sklearn no one hot encoding\n",
        "\n"
      ],
      "execution_count": null,
      "outputs": [
        {
          "execution_count": 143,
          "output_type": "execute_result",
          "data": {
            "text/plain": "RandomForestClassifier(n_estimators=50, random_state=42)"
          },
          "metadata": {}
        }
      ]
    },
    {
      "cell_type": "code",
      "metadata": {
        "id": "hqYRUnnGm8o0",
        "execution": {
          "iopub.status.busy": "2021-09-03T11:49:05.862906Z",
          "iopub.execute_input": "2021-09-03T11:49:05.863289Z",
          "iopub.status.idle": "2021-09-03T11:49:06.126723Z",
          "shell.execute_reply.started": "2021-09-03T11:49:05.863247Z",
          "shell.execute_reply": "2021-09-03T11:49:06.125869Z"
        },
        "trusted": true,
        "outputId": "2ee0e465-3558-4b5b-a0ff-91a7fcb4ee32"
      },
      "source": [
        "\n",
        "#Predict the response for test and Validation dataset\n",
        "y_pred = RF_model.predict(X_test_features)\n",
        "val_pred =  RF_model.predict(X_val_features)\n",
        "\n",
        "#Print overall accuracy\n",
        "from sklearn import metrics\n",
        "\n",
        "print (\"Test Accuracy = \", metrics.accuracy_score(test_labels, y_pred))\n",
        "print (\"Val Accuracy = \", metrics.accuracy_score(val_labels, val_pred))\n",
        "\n",
        "\n",
        "print (\"Test Data:\\n\", classification_report(test_labels, y_pred))\n",
        "print( \"Validation Data:\\n\", classification_report(val_labels, val_pred)) \n",
        "#Confusion Matrix - verify accuracy of each class\n",
        "from sklearn.metrics import confusion_matrix\n",
        "\n",
        "cm = confusion_matrix(test_labels, y_pred)\n",
        "#print(cm)\n",
        "sns.heatmap(cm, annot=True)\n"
      ],
      "execution_count": null,
      "outputs": [
        {
          "name": "stdout",
          "text": "Test Accuracy =  0.9733333333333334\nVal Accuracy =  0.98\nTest Data:\n               precision    recall  f1-score   support\n\n           0       0.98      0.95      0.97        65\n           1       0.97      0.99      0.98        85\n\n    accuracy                           0.97       150\n   macro avg       0.97      0.97      0.97       150\nweighted avg       0.97      0.97      0.97       150\n\nValidation Data:\n               precision    recall  f1-score   support\n\n           0       1.00      0.94      0.97        51\n           1       0.97      1.00      0.99        99\n\n    accuracy                           0.98       150\n   macro avg       0.99      0.97      0.98       150\nweighted avg       0.98      0.98      0.98       150\n\n",
          "output_type": "stream"
        },
        {
          "execution_count": 144,
          "output_type": "execute_result",
          "data": {
            "text/plain": "<AxesSubplot:>"
          },
          "metadata": {}
        },
        {
          "output_type": "display_data",
          "data": {
            "text/plain": "<Figure size 432x288 with 2 Axes>",
            "image/png": "[encoded data removed]"
          },
          "metadata": {
            "needs_background": "light"
          }
        }
      ]
    }
  ]
}